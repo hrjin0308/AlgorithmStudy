{
 "cells": [
  {
   "cell_type": "markdown",
   "id": "17b34038",
   "metadata": {},
   "source": [
    "# [기초-종합] 수 나열하기2\n"
   ]
  },
  {
   "cell_type": "markdown",
   "id": "d10c519a",
   "metadata": {},
   "source": [
    "## 추가 설명\n",
    "\n",
    "예를 들어  \n",
    "1 -1 3 -5 11 -21 43 ... 은  \n",
    "1부터 시작해 이전에 만든 수에 -2를 곱한 다음 1을 더해 다음 수를 만든 수열이다.  \n",
    "\n",
    "이런 이상한 수열을 알게 된 영일이는 또 궁금해졌다.  \n",
    "\"그럼.... 13번째 나오는 수는 뭘까?\"  \n",
    "\n",
    "\n",
    "왜 하필 이름 영일이인것..?"
   ]
  },
  {
   "cell_type": "markdown",
   "id": "04f1a15d",
   "metadata": {},
   "source": [
    "## 입력 / 출력\n",
    "\n",
    "```\n",
    "입력  \n",
    "시작 값(a), 곱할 값(m), 더할 값(d), 몇 번째 인지를 나타내는 정수(n)가\n",
    "공백을 두고 입력된다.(a, m, d는 -50 ~ +50, n은 10이하의 자연수)\n",
    "```\n",
    " \n",
    "```\n",
    "출력  \n",
    "n번째 수를 출력한다.\n",
    "```"
   ]
  },
  {
   "cell_type": "code",
   "execution_count": 7,
   "id": "abc4245f",
   "metadata": {},
   "outputs": [
    {
     "name": "stdout",
     "output_type": "stream",
     "text": [
      "1 -2 1 8\n",
      "-85\n"
     ]
    }
   ],
   "source": [
    "aStr, mStr, dStr, nStr = input().split()\n",
    "a = int(aStr)\n",
    "m = int(mStr)\n",
    "d = int(dStr)\n",
    "n = int(nStr)\n",
    "\n",
    "for i in range(2, n + 1):\n",
    "    a *= m\n",
    "    a += d\n",
    "\n",
    "print(a)"
   ]
  }
 ],
 "metadata": {
  "kernelspec": {
   "display_name": "Python 3",
   "language": "python",
   "name": "python3"
  },
  "language_info": {
   "codemirror_mode": {
    "name": "ipython",
    "version": 3
   },
   "file_extension": ".py",
   "mimetype": "text/x-python",
   "name": "python",
   "nbconvert_exporter": "python",
   "pygments_lexer": "ipython3",
   "version": "3.8.6"
  }
 },
 "nbformat": 4,
 "nbformat_minor": 5
}
