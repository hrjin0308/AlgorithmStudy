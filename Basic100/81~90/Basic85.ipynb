{
 "cells": [
  {
   "cell_type": "markdown",
   "id": "17b34038",
   "metadata": {},
   "source": [
    "# [기초-종합] 그림 파일 저장용량 계산하기\n"
   ]
  },
  {
   "cell_type": "markdown",
   "id": "61192cf0",
   "metadata": {},
   "source": [
    "## 추가 설명\n",
    "\n",
    "이미지가 컴퓨터에 저장될 때에도 디지털 데이터화 되어 저장된다.  \n",
    "\n",
    "가장 기본적인 방법으로는 그림을 구성하는 한 점(pixel, 픽셀)의 색상을  \n",
    "빨강(r), 초록(g), 파랑(b)의 3가지의 빛의 세기 값으로 따로 변환하여 저장하는 것인데,  \n",
    "\n",
    "예를 들어 r, g, b 각 색에 대해서 8비트(0~255, 256가지 가능)씩을 사용한다고 하면,  \n",
    "\n",
    "한 점의 색상은 3가지 r, g, b의 8비트+8비트+8비트로 총 24비트로 표현해서  \n",
    "총 2^24 가지의 서로 다른 빛의 색깔을 사용할 수 있는 것이다.  \n",
    "\n",
    "그렇게 저장하는 점을 모아 하나의 큰 이미지를 저장할 수 있게 되는데,  \n",
    "1024 * 768 사이즈에 각 점에 대해 24비트로 저장하면 그 이미지를 저장하기 위한  \n",
    "저장 용량을 계산할 수 있다.  \n",
    "\n",
    "이렇게 이미지의 원래(raw) 데이터를 압축하지 않고 그대로 저장하는 대표적인 이미지 파일이  \n",
    "*.bmp 파일이며, 비트로 그림을 구성한다고 하여 비트맵 방식 또는 래스터 방식이라고 한다.  \n",
    "\n",
    "이미지의 가로 해상도 w, 세로 해상도 h, 한 픽셀을 저장하기 위한 비트 b 가 주어질 때,  \n",
    "압축하지 않고 저장하기 위해 필요한 저장 용량을 계산하는 프로그램을 작성해 보자.  \n",
    "\n",
    "예를 들어  \n",
    "일반적인 1024 * 768 사이즈(해상도)의 각점에 대해  \n",
    "24비트(rgb 각각 8비트씩 3개)로 저장하려면  \n",
    "1024 * 768 * 24 bit의 저장공간이 필요한데,  \n",
    "1024*768*24/8/1024/1024 로 계산하면 약 2.25 MB 정도가 필요하다. \n",
    "\n",
    "실제 그런지 확인하고 싶다면, 간단한 그림 편집/수정 프로그램을 통해 확인할 수 있다.  \n",
    "\n",
    "**  \n",
    "      8 bit(비트)        = 1byte(바이트)     # 8bit=1Byte  \n",
    "    1024 Byte(210 byte) = 1KB(킬로 바이트)   # 1024Byte=1KB  \n",
    "    1024 KB(210 KB)     = 1MB(메가 바이트)  \n",
    "    1024 MB(210 MB)     = 1GB(기가 바이트)  \n",
    "    1024 GB(210 GB)     = 1TB(테라 바이트)  \n",
    "    \n",
    "\n",
    "![img](https://codeup.kr/upload/pimg6250_1.png)"
   ]
  },
  {
   "cell_type": "markdown",
   "id": "4e7f5d75",
   "metadata": {},
   "source": [
    "## 입력 / 출력\n",
    "\n",
    "```\n",
    "입력  \n",
    "w, h, b 가 공백을 두고 입력된다.\n",
    "단, w, h는 모두 정수이고 1~1024 이다. b는 40이하의 4의 배수이다.\n",
    "```\n",
    " \n",
    "```\n",
    "출력  \n",
    "필요한 저장 공간을 MB 단위로 바꾸어 출력한다.\n",
    "단, 소수점 셋째 자리에서 반올림하여 둘째 자리까지 출력한다.\n",
    "```"
   ]
  },
  {
   "cell_type": "code",
   "execution_count": 15,
   "id": "abc4245f",
   "metadata": {},
   "outputs": [
    {
     "name": "stdout",
     "output_type": "stream",
     "text": [
      "1024 768 24\n",
      "2.25 MB\n"
     ]
    }
   ],
   "source": [
    "# 일반적인 1024 * 768 사이즈(해상도)의 각점에 대해\n",
    "# 24비트(rgb 각각 8비트씩 3개)로 저장하려면\n",
    "# 1024 * 768 * 24 bit의 저장공간이 필요한데,\n",
    "# 102476824/8/1024/1024 로 계산하면 약 2.25 MB 정도가 필요하다.\n",
    "# bitSize = w * h * b\n",
    "# mbSize = bitSize / 8 / 1024 / 1024\n",
    "\n",
    "wStr, hStr, bStr = input().split()\n",
    "w = int(wStr)\n",
    "h = int(hStr)\n",
    "b = int(bStr)\n",
    "\n",
    "bitSize = w * h * b\n",
    "mbSize = bitSize / 8 / 1024 / 1024\n",
    "\n",
    "print(\"{0:.2f} MB\".format(mbSize))\n"
   ]
  }
 ],
 "metadata": {
  "kernelspec": {
   "display_name": "Python 3",
   "language": "python",
   "name": "python3"
  },
  "language_info": {
   "codemirror_mode": {
    "name": "ipython",
    "version": 3
   },
   "file_extension": ".py",
   "mimetype": "text/x-python",
   "name": "python",
   "nbconvert_exporter": "python",
   "pygments_lexer": "ipython3",
   "version": "3.8.6"
  }
 },
 "nbformat": 4,
 "nbformat_minor": 5
}
