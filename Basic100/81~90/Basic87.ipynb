{
 "cells": [
  {
   "cell_type": "markdown",
   "id": "17b34038",
   "metadata": {},
   "source": [
    "# [기초-종합] 3의 배수는 통과\n"
   ]
  },
  {
   "cell_type": "markdown",
   "id": "22419a56",
   "metadata": {},
   "source": [
    "## 입력 / 출력\n",
    "\n",
    "```\n",
    "입력  \n",
    "정수 1개를 입력받는다.\n",
    "(1 ~ 100)\n",
    "```\n",
    " \n",
    "```\n",
    "출력  \n",
    "1부터 입력한 정수보다 작거나 같을 때까지 1씩 증가시켜 출력하되\n",
    "3의 배수는 출력하지 않는다.\n",
    "```"
   ]
  },
  {
   "cell_type": "code",
   "execution_count": 3,
   "id": "abc4245f",
   "metadata": {},
   "outputs": [
    {
     "name": "stdout",
     "output_type": "stream",
     "text": [
      "10\n",
      "1 2 4 5 7 8 10 "
     ]
    }
   ],
   "source": [
    "num = int(input())\n",
    "\n",
    "for i in range(1, num + 1):\n",
    "    if i % 3 == 0:\n",
    "        continue\n",
    "    print(i, end = \" \")"
   ]
  }
 ],
 "metadata": {
  "kernelspec": {
   "display_name": "Python 3",
   "language": "python",
   "name": "python3"
  },
  "language_info": {
   "codemirror_mode": {
    "name": "ipython",
    "version": 3
   },
   "file_extension": ".py",
   "mimetype": "text/x-python",
   "name": "python",
   "nbconvert_exporter": "python",
   "pygments_lexer": "ipython3",
   "version": "3.8.6"
  }
 },
 "nbformat": 4,
 "nbformat_minor": 5
}
