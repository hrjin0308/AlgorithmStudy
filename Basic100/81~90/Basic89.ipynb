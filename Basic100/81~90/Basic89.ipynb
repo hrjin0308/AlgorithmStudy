{
 "cells": [
  {
   "cell_type": "markdown",
   "id": "17b34038",
   "metadata": {},
   "source": [
    "# [기초-종합] 수 나열하기2\n"
   ]
  },
  {
   "cell_type": "markdown",
   "id": "9cfc9c05",
   "metadata": {},
   "source": [
    "## 입력 / 출력\n",
    "\n",
    "```\n",
    "입력  \n",
    "시작 값(a), 등비의 값(r), 몇 번째 인지를 나타내는 정수(n)가\n",
    "공백을 두고 입력된다.(모두 0 ~ 10)\n",
    "```\n",
    " \n",
    "```\n",
    "출력  \n",
    "n번째 수를 출력한다.\n",
    "```"
   ]
  },
  {
   "cell_type": "code",
   "execution_count": 6,
   "id": "abc4245f",
   "metadata": {},
   "outputs": [
    {
     "name": "stdout",
     "output_type": "stream",
     "text": [
      "2 3 7\n",
      "1458\n"
     ]
    }
   ],
   "source": [
    "aStr, rStr, nStr = input().split()\n",
    "a = int(aStr)\n",
    "r = int(rStr)\n",
    "n = int(nStr)\n",
    "\n",
    "for i in range(0, n - 1):\n",
    "    a *= r\n",
    "\n",
    "print(a)"
   ]
  }
 ],
 "metadata": {
  "kernelspec": {
   "display_name": "Python 3",
   "language": "python",
   "name": "python3"
  },
  "language_info": {
   "codemirror_mode": {
    "name": "ipython",
    "version": 3
   },
   "file_extension": ".py",
   "mimetype": "text/x-python",
   "name": "python",
   "nbconvert_exporter": "python",
   "pygments_lexer": "ipython3",
   "version": "3.8.6"
  }
 },
 "nbformat": 4,
 "nbformat_minor": 5
}
