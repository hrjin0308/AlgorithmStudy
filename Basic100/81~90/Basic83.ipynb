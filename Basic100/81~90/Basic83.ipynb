{
 "cells": [
  {
   "cell_type": "markdown",
   "id": "17b34038",
   "metadata": {},
   "source": [
    "# [기초-종합] 빛 섞어 색 만들기\n",
    "\n",
    "```\n",
    "입력  \n",
    "빨녹파(r, g, b) 각 빛의 가짓수가 공백을 두고 입력된다.\n",
    "예를 들어, 3 3 3 은 빨녹파 빛에 대해서 각각 0~2까지 3가지 색이 있음을 의미한다.\n",
    "0 <= r,g,b <= 127\n",
    "```\n",
    " \n",
    "```\n",
    "출력  \n",
    "만들 수 있는 rgb 색의 정보를 오름차순(계단을 올라가는 순, 12345... abcde..., 가나다라마...)으로\n",
    "줄을 바꿔 모두 출력하고, 마지막에 그 개수를 출력한다.\n",
    "```"
   ]
  },
  {
   "cell_type": "code",
   "execution_count": 10,
   "id": "abc4245f",
   "metadata": {},
   "outputs": [
    {
     "name": "stdout",
     "output_type": "stream",
     "text": [
      "2 2 2\n",
      "0 0 0\n",
      "0 0 1\n",
      "0 1 0\n",
      "0 1 1\n",
      "1 0 0\n",
      "1 0 1\n",
      "1 1 0\n",
      "1 1 1\n",
      "8\n"
     ]
    }
   ],
   "source": [
    "r, g, b = input().split()\n",
    "rValue = int(r)\n",
    "gValue = int(g)\n",
    "bValue = int(b)\n",
    "count = 0\n",
    "\n",
    "for i in range(0, rValue):\n",
    "    for j in range(0, gValue):\n",
    "        for k in range(0, bValue):\n",
    "            print(i, j, k)\n",
    "            count += 1\n",
    "print(count)\n"
   ]
  }
 ],
 "metadata": {
  "kernelspec": {
   "display_name": "Python 3",
   "language": "python",
   "name": "python3"
  },
  "language_info": {
   "codemirror_mode": {
    "name": "ipython",
    "version": 3
   },
   "file_extension": ".py",
   "mimetype": "text/x-python",
   "name": "python",
   "nbconvert_exporter": "python",
   "pygments_lexer": "ipython3",
   "version": "3.8.6"
  }
 },
 "nbformat": 4,
 "nbformat_minor": 5
}
