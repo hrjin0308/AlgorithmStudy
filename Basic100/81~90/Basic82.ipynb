{
 "cells": [
  {
   "cell_type": "markdown",
   "id": "17b34038",
   "metadata": {},
   "source": [
    "# [기초-종합] 3 6 9 게임의 왕이 되자\n",
    "\n",
    "```\n",
    "입력  \n",
    "30 보다 작은 정수 1개가 입력된다.\n",
    "(1 ~ 29)\n",
    "```\n",
    " \n",
    "```\n",
    "출력  \n",
    "1 부터 그 수까지 순서대로 공백을 두고 수를 출력하는데,\n",
    "3 또는 6 또는 9가 포함 되어있는 수인 경우, 그 수 대신 영문 대문자 X 를 출력한다.\n",
    "```"
   ]
  },
  {
   "cell_type": "code",
   "execution_count": 3,
   "id": "abc4245f",
   "metadata": {},
   "outputs": [
    {
     "name": "stdout",
     "output_type": "stream",
     "text": [
      "10\n",
      "1 2 X 4 5 X 7 8 X 10"
     ]
    }
   ],
   "source": [
    "num = int(input())\n",
    "\n",
    "for i in range(1, num + 1):\n",
    "    iStr = str(i)\n",
    "    endStr = \" \" if (i != num) else \"\"\n",
    "    if (\"3\" in iStr or \"6\" in iStr or \"9\" in iStr):\n",
    "        print(\"X\", end = endStr)\n",
    "    else:\n",
    "        print(iStr, end = endStr)\n"
   ]
  },
  {
   "cell_type": "code",
   "execution_count": 4,
   "id": "c8182cce",
   "metadata": {},
   "outputs": [
    {
     "name": "stdout",
     "output_type": "stream",
     "text": [
      "10\n",
      "1 2 X 4 5 X 7 8 X 10"
     ]
    }
   ],
   "source": [
    "num = int(input())\n",
    "\n",
    "for i in range(1, num + 1):\n",
    "    endStr = \" \" if (i != num) else \"\"\n",
    "    remain = i % 10\n",
    "    if (remain == 3 or remain == 6 or remain == 9):\n",
    "        print(\"X\", end = endStr)\n",
    "    else:\n",
    "        print(i, end = endStr)"
   ]
  }
 ],
 "metadata": {
  "kernelspec": {
   "display_name": "Python 3",
   "language": "python",
   "name": "python3"
  },
  "language_info": {
   "codemirror_mode": {
    "name": "ipython",
    "version": 3
   },
   "file_extension": ".py",
   "mimetype": "text/x-python",
   "name": "python",
   "nbconvert_exporter": "python",
   "pygments_lexer": "ipython3",
   "version": "3.8.6"
  }
 },
 "nbformat": 4,
 "nbformat_minor": 5
}
