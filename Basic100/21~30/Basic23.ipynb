{
 "cells": [
  {
   "cell_type": "markdown",
   "metadata": {},
   "source": [
    "# [기초-입출력] 시분초 입력받아 분만 출력하기\n",
    "\n",
    "```\n",
    "입력  \n",
    "시 분 초가\n",
    "시:분:초 형식으로 입력된다.\n",
    "```\n",
    " \n",
    "```\n",
    "출력  \n",
    "분만 출력한다.\n",
    "```"
   ]
  },
  {
   "cell_type": "code",
   "execution_count": 1,
   "metadata": {},
   "outputs": [
    {
     "name": "stdout",
     "output_type": "stream",
     "text": [
      "18:03:40\n",
      "03\n"
     ]
    }
   ],
   "source": [
    "hour, min, sec = input().split(\":\")\n",
    "print(min)"
   ]
  }
 ],
 "metadata": {
  "kernelspec": {
   "display_name": "Python 3",
   "language": "python",
   "name": "python3"
  },
  "language_info": {
   "codemirror_mode": {
    "name": "ipython",
    "version": 3
   },
   "file_extension": ".py",
   "mimetype": "text/x-python",
   "name": "python",
   "nbconvert_exporter": "python",
   "pygments_lexer": "ipython3",
   "version": "3.8.5"
  }
 },
 "nbformat": 4,
 "nbformat_minor": 4
}
