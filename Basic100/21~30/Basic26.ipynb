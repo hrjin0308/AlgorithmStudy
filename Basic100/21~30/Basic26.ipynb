{
 "cells": [
  {
   "cell_type": "markdown",
   "id": "752fc015",
   "metadata": {},
   "source": [
    "# [기초-값변환] 실수 2개 입력받아 합 계산하기\n",
    "\n",
    "```\n",
    "입력  \n",
    "2개의 실수가 줄을 바꿔 입력된다.\n",
    "```\n",
    " \n",
    "```\n",
    "출력  \n",
    "두 실수의 합을 출력한다.\n",
    "```"
   ]
  },
  {
   "cell_type": "code",
   "execution_count": 1,
   "id": "e0d05575",
   "metadata": {},
   "outputs": [
    {
     "name": "stdout",
     "output_type": "stream",
     "text": [
      "1.25\n",
      "2.5\n",
      "3.75\n"
     ]
    }
   ],
   "source": [
    "a = input()\n",
    "b = input()\n",
    "\n",
    "print(float(a) + float(b))"
   ]
  }
 ],
 "metadata": {
  "kernelspec": {
   "display_name": "Python 3",
   "language": "python",
   "name": "python3"
  },
  "language_info": {
   "codemirror_mode": {
    "name": "ipython",
    "version": 3
   },
   "file_extension": ".py",
   "mimetype": "text/x-python",
   "name": "python",
   "nbconvert_exporter": "python",
   "pygments_lexer": "ipython3",
   "version": "3.8.6"
  }
 },
 "nbformat": 4,
 "nbformat_minor": 5
}
