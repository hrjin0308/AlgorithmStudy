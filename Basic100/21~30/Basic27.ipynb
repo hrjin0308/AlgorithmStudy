{
 "cells": [
  {
   "cell_type": "markdown",
   "id": "eb49daca",
   "metadata": {},
   "source": [
    "# [기초-출력변환] 10진 정수 입력받아 16진수로 출력하기1\n",
    "\n",
    "```\n",
    "입력  \n",
    "10진수 1개가 입력된다.\n",
    "```\n",
    " \n",
    "```\n",
    "출력  \n",
    "16진수(소문자) 형태로 출력한다.\n",
    "```"
   ]
  },
  {
   "cell_type": "code",
   "execution_count": 1,
   "id": "90e8e46c",
   "metadata": {},
   "outputs": [
    {
     "name": "stdout",
     "output_type": "stream",
     "text": [
      "12\n",
      "c\n"
     ]
    }
   ],
   "source": [
    "a = input()\n",
    "print(\"%x\" % int(a))"
   ]
  }
 ],
 "metadata": {
  "kernelspec": {
   "display_name": "Python 3",
   "language": "python",
   "name": "python3"
  },
  "language_info": {
   "codemirror_mode": {
    "name": "ipython",
    "version": 3
   },
   "file_extension": ".py",
   "mimetype": "text/x-python",
   "name": "python",
   "nbconvert_exporter": "python",
   "pygments_lexer": "ipython3",
   "version": "3.8.6"
  }
 },
 "nbformat": 4,
 "nbformat_minor": 5
}
