{
 "cells": [
  {
   "cell_type": "markdown",
   "id": "2e916480",
   "metadata": {},
   "source": [
    "# [기초-값변환] 16진 정수 입력받아 8진수로 출력하기\n",
    "\n",
    "```\n",
    "입력  \n",
    "16진 정수 1개가 입력된다.\n",
    "```\n",
    " \n",
    "```\n",
    "출력  \n",
    "8진수 형태로 출력한다.\n",
    "```"
   ]
  },
  {
   "cell_type": "code",
   "execution_count": 1,
   "id": "4b2ba438",
   "metadata": {},
   "outputs": [
    {
     "name": "stdout",
     "output_type": "stream",
     "text": [
      "c\n",
      "14\n"
     ]
    }
   ],
   "source": [
    "a = input()\n",
    "print(\"%o\" % int(a, 16))"
   ]
  },
  {
   "cell_type": "code",
   "execution_count": 7,
   "id": "486c1225",
   "metadata": {},
   "outputs": [
    {
     "name": "stdout",
     "output_type": "stream",
     "text": [
      "10\n",
      "10진수 - 10\n",
      "2진수 - 1010\n",
      "8진수 - 12\n",
      "16진수 - a\n"
     ]
    }
   ],
   "source": [
    "a = input()\n",
    "\n",
    "print(\"10진수 - {0}\".format(dec))\n",
    "print(\"2진수 - {0:b}\".format(dec))\n",
    "print(\"8진수 - {0:o}\".format(dec))\n",
    "print(\"16진수 - {0:x}\".format(dec))"
   ]
  }
 ],
 "metadata": {
  "kernelspec": {
   "display_name": "Python 3",
   "language": "python",
   "name": "python3"
  },
  "language_info": {
   "codemirror_mode": {
    "name": "ipython",
    "version": 3
   },
   "file_extension": ".py",
   "mimetype": "text/x-python",
   "name": "python",
   "nbconvert_exporter": "python",
   "pygments_lexer": "ipython3",
   "version": "3.8.6"
  }
 },
 "nbformat": 4,
 "nbformat_minor": 5
}
