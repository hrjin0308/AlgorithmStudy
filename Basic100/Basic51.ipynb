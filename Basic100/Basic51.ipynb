{
 "cells": [
  {
   "cell_type": "markdown",
   "id": "51556061",
   "metadata": {},
   "source": [
    "# [기초-비교연산] 정수 2개 입력받아 비교하기4\n",
    "\n",
    "```\n",
    "입력  \n",
    "2개의 정수(a, b)가 공백을 두고 입력된다.\n",
    "-2147483647 <= a, b <= +2147483648\n",
    "```\n",
    " \n",
    "```\n",
    "출력  \n",
    "a와 b가 다른 경우 True 를, 그렇지 않은 경우 False 를 출력한다.\n",
    "```"
   ]
  },
  {
   "cell_type": "code",
   "execution_count": 1,
   "id": "cc6ec093",
   "metadata": {},
   "outputs": [
    {
     "name": "stdout",
     "output_type": "stream",
     "text": [
      "1 1\n",
      "False\n"
     ]
    }
   ],
   "source": [
    "a, b = input().split()\n",
    "\n",
    "print(int(a) != int(b))"
   ]
  },
  {
   "cell_type": "code",
   "execution_count": 2,
   "id": "ad5926fb",
   "metadata": {
    "scrolled": true
   },
   "outputs": [
    {
     "name": "stdout",
     "output_type": "stream",
     "text": [
      "1 2\n",
      "True\n"
     ]
    }
   ],
   "source": [
    "a, b = input().split()\n",
    "\n",
    "print(int(a) != int(b))"
   ]
  }
 ],
 "metadata": {
  "kernelspec": {
   "display_name": "Python 3",
   "language": "python",
   "name": "python3"
  },
  "language_info": {
   "codemirror_mode": {
    "name": "ipython",
    "version": 3
   },
   "file_extension": ".py",
   "mimetype": "text/x-python",
   "name": "python",
   "nbconvert_exporter": "python",
   "pygments_lexer": "ipython3",
   "version": "3.8.6"
  }
 },
 "nbformat": 4,
 "nbformat_minor": 5
}
