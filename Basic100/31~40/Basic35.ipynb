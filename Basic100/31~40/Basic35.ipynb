{
 "cells": [
  {
   "cell_type": "markdown",
   "id": "10be9d47",
   "metadata": {},
   "source": [
    "# [기초-산술연산] 실수 2개 입력받아 곱 계산하기\n",
    "\n",
    "```\n",
    "입력  \n",
    "2개의 실수가 공백으로 구분되어 입력된다.\n",
    "```\n",
    " \n",
    "```\n",
    "출력  \n",
    "첫 번째 실수와 두 번째 실수를 곱한 값을 출력한다.\n",
    "```"
   ]
  },
  {
   "cell_type": "code",
   "execution_count": 3,
   "id": "fdd87f98",
   "metadata": {},
   "outputs": [
    {
     "name": "stdout",
     "output_type": "stream",
     "text": [
      "1.5 2.7\n",
      "4.050000000000001\n"
     ]
    }
   ],
   "source": [
    "a, b = input().split()\n",
    "\n",
    "print(float(a) * float(b))"
   ]
  }
 ],
 "metadata": {
  "kernelspec": {
   "display_name": "Python 3",
   "language": "python",
   "name": "python3"
  },
  "language_info": {
   "codemirror_mode": {
    "name": "ipython",
    "version": 3
   },
   "file_extension": ".py",
   "mimetype": "text/x-python",
   "name": "python",
   "nbconvert_exporter": "python",
   "pygments_lexer": "ipython3",
   "version": "3.8.6"
  }
 },
 "nbformat": 4,
 "nbformat_minor": 5
}
