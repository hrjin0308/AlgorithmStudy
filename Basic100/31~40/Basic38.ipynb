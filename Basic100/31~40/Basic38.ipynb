{
 "cells": [
  {
   "cell_type": "markdown",
   "id": "1650a1ca",
   "metadata": {},
   "source": [
    "# [기초-산술연산] 정수 2개 입력받아 거듭제곱 계산하기\n",
    "\n",
    "```\n",
    "입력  \n",
    "2개의 정수(a, b)가 공백으로 구분되어 입력된다.\n",
    "```\n",
    " \n",
    "```\n",
    "출력  \n",
    "a를 b번 거듭제곱한 값을 출력한다.\n",
    "```"
   ]
  },
  {
   "cell_type": "code",
   "execution_count": 1,
   "id": "507e6c74",
   "metadata": {},
   "outputs": [
    {
     "name": "stdout",
     "output_type": "stream",
     "text": [
      "2 4\n",
      "16\n"
     ]
    }
   ],
   "source": [
    "a, b = input().split()\n",
    "\n",
    "print(pow(int(a), int(b)))"
   ]
  },
  {
   "cell_type": "code",
   "execution_count": 2,
   "id": "4b4fc561",
   "metadata": {},
   "outputs": [
    {
     "name": "stdout",
     "output_type": "stream",
     "text": [
      "2 4\n",
      "16\n"
     ]
    }
   ],
   "source": [
    "a, b = input().split()\n",
    "\n",
    "print(int(a) ** int(b))"
   ]
  }
 ],
 "metadata": {
  "kernelspec": {
   "display_name": "Python 3",
   "language": "python",
   "name": "python3"
  },
  "language_info": {
   "codemirror_mode": {
    "name": "ipython",
    "version": 3
   },
   "file_extension": ".py",
   "mimetype": "text/x-python",
   "name": "python",
   "nbconvert_exporter": "python",
   "pygments_lexer": "ipython3",
   "version": "3.8.6"
  }
 },
 "nbformat": 4,
 "nbformat_minor": 5
}
