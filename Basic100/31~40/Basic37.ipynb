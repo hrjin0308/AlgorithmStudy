{
 "cells": [
  {
   "cell_type": "markdown",
   "id": "73c54bd9",
   "metadata": {},
   "source": [
    "# [기초-산술연산] 문장 여러 번 출력하기\n",
    "\n",
    "```\n",
    "입력  \n",
    "반복 횟수와 문장이 줄을 바꿔 입력된다.\n",
    "```\n",
    " \n",
    "```\n",
    "출력  \n",
    "입력된 횟수만큼 입력된 문장을 출력한다.\n",
    "```"
   ]
  },
  {
   "cell_type": "code",
   "execution_count": 1,
   "id": "1e2fab6e",
   "metadata": {},
   "outputs": [
    {
     "name": "stdout",
     "output_type": "stream",
     "text": [
      "4\n",
      "집에 갈래\n",
      "집에 갈래집에 갈래집에 갈래집에 갈래\n"
     ]
    }
   ],
   "source": [
    "count = int(input())\n",
    "sentence = input()\n",
    "\n",
    "print(count * sentence)"
   ]
  }
 ],
 "metadata": {
  "kernelspec": {
   "display_name": "Python 3",
   "language": "python",
   "name": "python3"
  },
  "language_info": {
   "codemirror_mode": {
    "name": "ipython",
    "version": 3
   },
   "file_extension": ".py",
   "mimetype": "text/x-python",
   "name": "python",
   "nbconvert_exporter": "python",
   "pygments_lexer": "ipython3",
   "version": "3.8.6"
  }
 },
 "nbformat": 4,
 "nbformat_minor": 5
}
