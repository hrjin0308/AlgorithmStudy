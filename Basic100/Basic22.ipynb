{
 "cells": [
  {
   "cell_type": "markdown",
   "metadata": {},
   "source": [
    "# [기초-입출력] 연월일 입력받아 나누어 출력하기\n",
    "\n",
    "```\n",
    "입력  \n",
    "6자리 숫자로 이루어진 연월일(YYMMDD)이 입력된다.\n",
    "```\n",
    " \n",
    "```\n",
    "출력  \n",
    "년도(YY) 월(MM) 일(DD)을 공백으로 구분해 한 줄로 출력한다.\n",
    "```"
   ]
  },
  {
   "cell_type": "code",
   "execution_count": 1,
   "metadata": {},
   "outputs": [
    {
     "name": "stdout",
     "output_type": "stream",
     "text": [
      "210502\n",
      "21 05 02\n"
     ]
    }
   ],
   "source": [
    "str = input()\n",
    "print(str[:2], str[2:4], str[4:])"
   ]
  }
 ],
 "metadata": {
  "kernelspec": {
   "display_name": "Python 3",
   "language": "python",
   "name": "python3"
  },
  "language_info": {
   "codemirror_mode": {
    "name": "ipython",
    "version": 3
   },
   "file_extension": ".py",
   "mimetype": "text/x-python",
   "name": "python",
   "nbconvert_exporter": "python",
   "pygments_lexer": "ipython3",
   "version": "3.8.5"
  }
 },
 "nbformat": 4,
 "nbformat_minor": 4
}
