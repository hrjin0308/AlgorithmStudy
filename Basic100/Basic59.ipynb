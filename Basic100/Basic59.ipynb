{
 "cells": [
  {
   "cell_type": "markdown",
   "metadata": {},
   "source": [
    "# [기초-비트단위논리연산] 비트단위로 NOT 하여 출력하기\n",
    "\n",
    "\n",
    "비트 연산이 제일 싫어.....\n",
    "\n",
    "```\n",
    "입력  \n",
    "정수 1개가 입력된다.\n",
    "-2147483648 ~ +2147483647\n",
    "```\n",
    " \n",
    "```\n",
    "출력  \n",
    "비트 단위로 1 -> 0, 0 -> 1로 바꾼 후 그 값을 10진수로 출력한다.\n",
    "```"
   ]
  },
  {
   "cell_type": "markdown",
   "metadata": {},
   "source": [
    "## 참고\n",
    "\n",
    "~n = -n - 1  \n",
    "-n = ~n + 1\n",
    "\n",
    "![비트 연산](https://codeup.kr/upload/pimg6224_1.png)"
   ]
  },
  {
   "cell_type": "code",
   "execution_count": 1,
   "metadata": {},
   "outputs": [
    {
     "name": "stdout",
     "output_type": "stream",
     "text": [
      "22\n",
      "-23\n"
     ]
    }
   ],
   "source": [
    "a = int(input())\n",
    "\n",
    "print(~a)"
   ]
  }
 ],
 "metadata": {
  "kernelspec": {
   "display_name": "Python 3",
   "language": "python",
   "name": "python3"
  },
  "language_info": {
   "codemirror_mode": {
    "name": "ipython",
    "version": 3
   },
   "file_extension": ".py",
   "mimetype": "text/x-python",
   "name": "python",
   "nbconvert_exporter": "python",
   "pygments_lexer": "ipython3",
   "version": "3.8.5"
  }
 },
 "nbformat": 4,
 "nbformat_minor": 4
}
