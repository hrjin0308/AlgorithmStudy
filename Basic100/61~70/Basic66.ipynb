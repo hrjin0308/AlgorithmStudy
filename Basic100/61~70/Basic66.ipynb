{
 "cells": [
  {
   "cell_type": "markdown",
   "metadata": {},
   "source": [
    "# [기초-조건/선택실행구조] 정수 3개 입력받아 짝/홀 출력하기\n",
    "\n",
    "```\n",
    "입력  \n",
    "3개의 정수(a, b, c)가 공백을 두고 입력된다.\n",
    "0 <= a,b,c <= 2147483647\n",
    "```\n",
    " \n",
    "```\n",
    "출력  \n",
    "입력된 순서대로 짝(even)/홀(odd)을 줄을 바꿔 출력한다.\n",
    "```"
   ]
  },
  {
   "cell_type": "code",
   "execution_count": 15,
   "metadata": {},
   "outputs": [
    {
     "name": "stdout",
     "output_type": "stream",
     "text": [
      "2 3 4\n",
      "even\n",
      "odd\n",
      "even\n"
     ]
    }
   ],
   "source": [
    "a, b, c = input().split()\n",
    "numbers = [int(a), int(b), int(c)]\n",
    "\n",
    "for number in numbers:\n",
    "    if number % 2 == 0:\n",
    "        print(\"even\")\n",
    "    else:\n",
    "        print(\"odd\")"
   ]
  }
 ],
 "metadata": {
  "kernelspec": {
   "display_name": "Python 3",
   "language": "python",
   "name": "python3"
  },
  "language_info": {
   "codemirror_mode": {
    "name": "ipython",
    "version": 3
   },
   "file_extension": ".py",
   "mimetype": "text/x-python",
   "name": "python",
   "nbconvert_exporter": "python",
   "pygments_lexer": "ipython3",
   "version": "3.8.5"
  }
 },
 "nbformat": 4,
 "nbformat_minor": 4
}
