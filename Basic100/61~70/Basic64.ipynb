{
 "cells": [
  {
   "cell_type": "markdown",
   "metadata": {},
   "source": [
    "# [기초-3항연산] 정수 3개 입력받아 가장 작은 값 출력하기\n",
    "\n",
    "```\n",
    "입력  \n",
    "3개의 정수가 공백으로 구분되어 입력된다.\n",
    "-2147483648 ~ +2147483648\n",
    "```\n",
    " \n",
    "```\n",
    "출력  \n",
    "가장 작은 값을 출력한다.\n",
    "```"
   ]
  },
  {
   "cell_type": "code",
   "execution_count": 10,
   "metadata": {},
   "outputs": [
    {
     "name": "stdout",
     "output_type": "stream",
     "text": [
      "3 2 1\n",
      "1\n"
     ]
    }
   ],
   "source": [
    "a, b, c = input().split()\n",
    "numA = int(a)\n",
    "numB = int(b)\n",
    "numC = int(c)\n",
    "\n",
    "print((numA if (numA < numB) else numB) if ((numA if (numA < numB) else numB) < numC) else numC)"
   ]
  },
  {
   "cell_type": "code",
   "execution_count": 12,
   "metadata": {},
   "outputs": [
    {
     "name": "stdout",
     "output_type": "stream",
     "text": [
      "1 2 3\n",
      "1\n"
     ]
    }
   ],
   "source": [
    "a, b, c = input().split()\n",
    "numA = int(a)\n",
    "numB = int(b)\n",
    "numC = int(c)\n",
    "\n",
    "print(min(numA, numB, numC))"
   ]
  }
 ],
 "metadata": {
  "kernelspec": {
   "display_name": "Python 3",
   "language": "python",
   "name": "python3"
  },
  "language_info": {
   "codemirror_mode": {
    "name": "ipython",
    "version": 3
   },
   "file_extension": ".py",
   "mimetype": "text/x-python",
   "name": "python",
   "nbconvert_exporter": "python",
   "pygments_lexer": "ipython3",
   "version": "3.8.5"
  }
 },
 "nbformat": 4,
 "nbformat_minor": 4
}
