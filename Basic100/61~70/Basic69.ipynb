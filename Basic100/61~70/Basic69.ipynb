{
 "cells": [
  {
   "cell_type": "markdown",
   "metadata": {},
   "source": [
    "# [기초-조건/선택실행구조] 평가 입력받아 다르게 출력하기\n",
    "\n",
    "```\n",
    "입력  \n",
    "영문자 1개가 입력된다.\n",
    "(A, B, C, D 등 문자 1개가 입력된다.)\n",
    "```\n",
    " \n",
    "```\n",
    "출력  \n",
    "문자에 따라 다른 내용이 출력된다.\n",
    "\n",
    "평가 내용\n",
    "평가 : 내용\n",
    "A : best!!!\n",
    "B : good!!\n",
    "C : run!\n",
    "D : slowly~\n",
    "나머지 문자들 : what?\n",
    "```"
   ]
  },
  {
   "cell_type": "code",
   "execution_count": 23,
   "metadata": {},
   "outputs": [
    {
     "name": "stdout",
     "output_type": "stream",
     "text": [
      "A\n",
      "best!!!\n"
     ]
    }
   ],
   "source": [
    "grade = input()\n",
    "\n",
    "if grade == \"A\":\n",
    "    print(\"best!!!\")\n",
    "elif grade == \"B\":\n",
    "    print(\"good!!\")\n",
    "elif grade == \"C\":\n",
    "    print(\"run!\")\n",
    "elif grade == \"D\":\n",
    "    print(\"slowly~\")\n",
    "else:\n",
    "    print(\"what?\")\n"
   ]
  }
 ],
 "metadata": {
  "kernelspec": {
   "display_name": "Python 3",
   "language": "python",
   "name": "python3"
  },
  "language_info": {
   "codemirror_mode": {
    "name": "ipython",
    "version": 3
   },
   "file_extension": ".py",
   "mimetype": "text/x-python",
   "name": "python",
   "nbconvert_exporter": "python",
   "pygments_lexer": "ipython3",
   "version": "3.8.5"
  }
 },
 "nbformat": 4,
 "nbformat_minor": 4
}
