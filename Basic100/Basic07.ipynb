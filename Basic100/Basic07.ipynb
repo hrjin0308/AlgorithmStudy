{
 "cells": [
  {
   "cell_type": "markdown",
   "id": "2889a393",
   "metadata": {},
   "source": [
    "# [기초-출력] 출력하기07\n",
    "\n",
    "```\n",
    "입력  \n",
    "입력 없음\n",
    "```\n",
    " \n",
    "```\n",
    "출력  \n",
    "\"C:\\Download\\'hello'.py\"\n",
    "를 출력한다.\n",
    "```"
   ]
  },
  {
   "cell_type": "code",
   "execution_count": 2,
   "id": "42ca6873",
   "metadata": {},
   "outputs": [
    {
     "name": "stdout",
     "output_type": "stream",
     "text": [
      "\"C:\\Download\\'hello'.py\"\n"
     ]
    }
   ],
   "source": [
    "print(\"\\\"C:\\\\Download\\\\'hello'.py\\\"\")"
   ]
  }
 ],
 "metadata": {
  "kernelspec": {
   "display_name": "Python 3",
   "language": "python",
   "name": "python3"
  },
  "language_info": {
   "codemirror_mode": {
    "name": "ipython",
    "version": 3
   },
   "file_extension": ".py",
   "mimetype": "text/x-python",
   "name": "python",
   "nbconvert_exporter": "python",
   "pygments_lexer": "ipython3",
   "version": "3.8.6"
  }
 },
 "nbformat": 4,
 "nbformat_minor": 5
}
