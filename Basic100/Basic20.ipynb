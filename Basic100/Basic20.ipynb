{
 "cells": [
  {
   "cell_type": "markdown",
   "metadata": {},
   "source": [
    "# [기초-입출력] 주민번호 입력받아 형태 바꿔 출력하기\n",
    "\n",
    "```\n",
    "입력  \n",
    "주민번호 앞 6자리와 뒷 7자리가 '-'로 구분되어 입력된다.\n",
    "(입력값은 가상의 주민번호이다.)\n",
    "ex)110011-0000000\n",
    "```\n",
    " \n",
    "```\n",
    "출력  \n",
    "'-'를 제외한 주민번호 13자리를 모두 붙여 출력한다.\n",
    "\n",
    "참고\n",
    "아무것도 없는 공(empty) 문자는 작은 따옴표(') 2개를 붙여서 '' 로 표현한다.\n",
    "```"
   ]
  },
  {
   "cell_type": "code",
   "execution_count": 1,
   "metadata": {},
   "outputs": [
    {
     "name": "stdout",
     "output_type": "stream",
     "text": [
      "123456-1234567\n",
      "1234561234567\n"
     ]
    }
   ],
   "source": [
    "front, back = input().split(\"-\")\n",
    "print(\"{0}{1}\".format(front, back))"
   ]
  },
  {
   "cell_type": "code",
   "execution_count": 2,
   "metadata": {},
   "outputs": [
    {
     "name": "stdout",
     "output_type": "stream",
     "text": [
      "123456-1234567\n",
      "1234561234567\n"
     ]
    }
   ],
   "source": [
    "front, back = input().split(\"-\")\n",
    "print(front, back, sep = '')"
   ]
  },
  {
   "cell_type": "code",
   "execution_count": 3,
   "metadata": {},
   "outputs": [
    {
     "name": "stdout",
     "output_type": "stream",
     "text": [
      "123456-1234567\n",
      "1234561234567\n"
     ]
    }
   ],
   "source": [
    "jumin = input()\n",
    "print(jumin.replace(\"-\", \"\"))"
   ]
  }
 ],
 "metadata": {
  "kernelspec": {
   "display_name": "Python 3",
   "language": "python",
   "name": "python3"
  },
  "language_info": {
   "codemirror_mode": {
    "name": "ipython",
    "version": 3
   },
   "file_extension": ".py",
   "mimetype": "text/x-python",
   "name": "python",
   "nbconvert_exporter": "python",
   "pygments_lexer": "ipython3",
   "version": "3.8.5"
  }
 },
 "nbformat": 4,
 "nbformat_minor": 4
}
