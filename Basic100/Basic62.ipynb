{
 "cells": [
  {
   "cell_type": "markdown",
   "metadata": {},
   "source": [
    "# [기초-비트단위논리연산] 비트단위로 XOR 하여 출력하기\n",
    "\n",
    "\n",
    "비트 연산이 제일 싫어.....\n",
    "\n",
    "```\n",
    "입력  \n",
    "2개의 정수가 공백을 두고 입력된다.\n",
    "-2147483648 ~ +2147483647\n",
    "```\n",
    " \n",
    "```\n",
    "출력  \n",
    "두 정수를 비트단위(bitwise)로 xor 계산을 수행한 결과를 10진수로 출력한다.\n",
    "```"
   ]
  },
  {
   "cell_type": "markdown",
   "metadata": {},
   "source": [
    "## 참고\n",
    "\n",
    "입력된 정수 두 개를 비트단위로 xor 연산한 후 그 결과를 정수로 출력해보자.  \n",
    "비트단위(bitwise) 연산자 ^(xor, circumflex/caret, 서컴플렉스/카릿)를 사용하면 된다.  \n",
    "\n",
    "** 주의 ^은 수학식에서 거듭제곱(power)을 나타내는 기호와 모양은 같지만,  \n",
    "C언어에서는 전혀 다른 배타적 논리합(xor, 서로 다를 때 1)의 의미를 가진다.  \n",
    "\n",
    "예를 들어 3과 5가 입력되었을 때를 살펴보면  \n",
    "3       : 00000000 00000000 00000000 00000011  \n",
    "5       : 00000000 00000000 00000000 00000101  \n",
    "3 ^ 5 : 00000000 00000000 00000000 00000110  \n",
    "이 된다.\n",
    "이러한 비트단위 연산은 빠른 계산이 필요한 그래픽처리에서도 효과적으로 사용된다.  \n",
    "\n",
    "구체적으로 설명하자면,  \n",
    "두 장의 이미지가 겹쳐졌을 때 색이 서로 다른 부분만 처리할 수 있다.  \n",
    "배경이 되는 그림과 배경 위에서 움직이는 그림이 있을 때,  \n",
    "두 그림에서 차이만 골라내 배경 위에서 움직이는 그림의 색으로 바꿔주면  \n",
    "전체 그림을 구성하는 모든 점들의 색을 다시 계산해 입히지 않고  \n",
    "보다 효과적으로 그림을 처리할 수 있게 되는 것이다.  \n",
    "비행기 슈팅게임 등을 상상해보면 된다.  \n",
    "\n",
    "![비트 연산](https://codeup.kr/upload/pimg6227_1.png)"
   ]
  },
  {
   "cell_type": "code",
   "execution_count": 4,
   "metadata": {},
   "outputs": [
    {
     "name": "stdout",
     "output_type": "stream",
     "text": [
      "3 5\n",
      "6\n"
     ]
    }
   ],
   "source": [
    "a, b = input().split()\n",
    "\n",
    "print(int(a) ^ int(b))"
   ]
  }
 ],
 "metadata": {
  "kernelspec": {
   "display_name": "Python 3",
   "language": "python",
   "name": "python3"
  },
  "language_info": {
   "codemirror_mode": {
    "name": "ipython",
    "version": 3
   },
   "file_extension": ".py",
   "mimetype": "text/x-python",
   "name": "python",
   "nbconvert_exporter": "python",
   "pygments_lexer": "ipython3",
   "version": "3.8.5"
  }
 },
 "nbformat": 4,
 "nbformat_minor": 4
}
