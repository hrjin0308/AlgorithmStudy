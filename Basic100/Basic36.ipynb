{
 "cells": [
  {
   "cell_type": "markdown",
   "id": "b9d62997",
   "metadata": {},
   "source": [
    "# [기초-산술연산] 단어 여러 번 출력하기\n",
    "\n",
    "```\n",
    "입력  \n",
    "단어와 반복 횟수가 공백으로 구분되어 입력된다.\n",
    "```\n",
    " \n",
    "```\n",
    "출력  \n",
    "입력된 단어를 입력된 횟수만큼 반복해 출력한다.\n",
    "```"
   ]
  },
  {
   "cell_type": "code",
   "execution_count": 1,
   "id": "64f25031",
   "metadata": {},
   "outputs": [
    {
     "name": "stdout",
     "output_type": "stream",
     "text": [
      "hello 3\n",
      "hellohellohello\n"
     ]
    }
   ],
   "source": [
    "word, count = input().split()\n",
    "\n",
    "print(int(count) * word)"
   ]
  }
 ],
 "metadata": {
  "kernelspec": {
   "display_name": "Python 3",
   "language": "python",
   "name": "python3"
  },
  "language_info": {
   "codemirror_mode": {
    "name": "ipython",
    "version": 3
   },
   "file_extension": ".py",
   "mimetype": "text/x-python",
   "name": "python",
   "nbconvert_exporter": "python",
   "pygments_lexer": "ipython3",
   "version": "3.8.6"
  }
 },
 "nbformat": 4,
 "nbformat_minor": 5
}
