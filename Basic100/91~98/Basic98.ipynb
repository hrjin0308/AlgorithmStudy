{
 "cells": [
  {
   "cell_type": "markdown",
   "metadata": {},
   "source": [
    "# [기초-리스트] 성실한 개미(py)\n"
   ]
  },
  {
   "cell_type": "markdown",
   "metadata": {},
   "source": [
    "## 추가 설명\n",
    "\n",
    "영일이는 생명과학에 관심이 생겨 왕개미를 연구하고 있었다.  \n",
    "\n",
    "왕개미를 유심히 살펴보던 중 특별히 성실해 보이는 개미가 있었는데,  \n",
    "그 개미는 개미굴에서 나와 먹이까지 가장 빠른 길로 이동하는 것이었다.  \n",
    "\n",
    "개미는 오른쪽으로 움직이다가 벽을 만나면 아래쪽으로 움직여 가장 빠른 길로 움직였다.  \n",
    "(오른쪽에 길이 나타나면 다시 오른쪽으로 움직인다.)  \n",
    "\n",
    "이에 호기심이 생긴 영일이는 그 개미를 미로 상자에 넣고 살펴보기 시작하였다.  \n",
    "\n",
    "미로 상자에 넣은 개미는 먹이를 찾았거나, 더 이상 움직일 수 없을 때까지  \n",
    "오른쪽 또는 아래쪽으로만 움직였다.  \n",
    "\n",
    "미로 상자의 구조가 0(갈 수 있는 곳), 1(벽 또는 장애물)로 주어지고,  \n",
    "먹이가 2로 주어질 때, 성실한 개미의 이동 경로를 예상해보자.  \n",
    "\n",
    "단, 맨 아래의 가장 오른쪽에 도착한 경우, 더 이상 움직일 수 없는 경우, 먹이를 찾은 경우에는  \n",
    "더이상 이동하지 않고 그 곳에 머무른다고 가정한다.  \n",
    "\n",
    "미로 상자의 테두리는 모두 벽으로 되어 있으며,  \n",
    "개미집은 반드시 (2, 2)에 존재하기 때문에 개미는 (2, 2)에서 출발한다.  "
   ]
  },
  {
   "cell_type": "markdown",
   "metadata": {},
   "source": [
    "## 입력 / 출력\n",
    "\n",
    "```\n",
    "입력  \n",
    "10*10 크기의 미로 상자의 구조와 먹이의 위치가 입력된다.\n",
    "```\n",
    " \n",
    "```\n",
    "출력  \n",
    "성실한 개미가 이동한 경로를 9로 표시해 출력한다.\n",
    "```"
   ]
  },
  {
   "cell_type": "code",
   "execution_count": 2,
   "metadata": {},
   "outputs": [
    {
     "name": "stdout",
     "output_type": "stream",
     "text": [
      "1 1 1 1 1 1 1 1 1 1\n",
      "1 0 0 1 0 0 0 0 0 1\n",
      "1 0 0 1 1 1 0 0 0 1\n",
      "1 0 0 0 0 0 0 1 0 1\n",
      "1 0 0 0 0 0 0 1 0 1\n",
      "1 0 0 0 0 1 0 1 0 1\n",
      "1 0 0 0 0 1 2 1 0 1\n",
      "1 0 0 0 0 1 0 0 0 1\n",
      "1 0 0 0 0 0 0 0 0 1\n",
      "1 1 1 1 1 1 1 1 1 1\n",
      "1 1 1 1 1 1 1 1 1 1 \n",
      "1 9 9 1 0 0 0 0 0 1 \n",
      "1 0 9 1 1 1 0 0 0 1 \n",
      "1 0 9 9 9 9 9 1 0 1 \n",
      "1 0 0 0 0 0 9 1 0 1 \n",
      "1 0 0 0 0 1 9 1 0 1 \n",
      "1 0 0 0 0 1 9 1 0 1 \n",
      "1 0 0 0 0 1 0 0 0 1 \n",
      "1 0 0 0 0 0 0 0 0 1 \n",
      "1 1 1 1 1 1 1 1 1 1 \n"
     ]
    }
   ],
   "source": [
    "# 초기화\n",
    "boardSize = 10\n",
    "board = [list(map(int, input().split())) for _ in range(boardSize)]\n",
    "startPos = (2, 2)\n",
    "\n",
    "# 현재 위치 표시\n",
    "currentPos = startPos\n",
    "board[currentPos[1] - 1][currentPos[0] - 1] = 9\n",
    "\n",
    "while True:\n",
    "  idxX = currentPos[0] - 1\n",
    "  idxY = currentPos[1] - 1\n",
    "  \n",
    "  # 먹이 체크용 변수\n",
    "  preValue = 0\n",
    "\n",
    "  if board[idxY][idxX + 1] != 1: # 오른쪽 체크\n",
    "    preValue = board[idxY][idxX + 1]\n",
    "    board[idxY][idxX + 1] = 9\n",
    "    currentPos = (currentPos[0] + 1, currentPos[1])\n",
    "  elif board[idxY + 1][idxX] != 1: # 아래 체크\n",
    "    preValue = board[idxY + 1][idxX]\n",
    "    board[idxY + 1][idxX] = 9\n",
    "    currentPos = (currentPos[0], currentPos[1] + 1)\n",
    "  else:\n",
    "    # 더이상 이동 불가\n",
    "    break\n",
    "\n",
    "  if preValue == 2:\n",
    "    break\n",
    "\n",
    "for values in board:\n",
    "  for value in values:\n",
    "    print(value, end = \" \")\n",
    "  print()"
   ]
  }
 ],
 "metadata": {
  "kernelspec": {
   "display_name": "Python 3",
   "language": "python",
   "name": "python3"
  },
  "language_info": {
   "codemirror_mode": {
    "name": "ipython",
    "version": 3
   },
   "file_extension": ".py",
   "mimetype": "text/x-python",
   "name": "python",
   "nbconvert_exporter": "python",
   "pygments_lexer": "ipython3",
   "version": "3.8.5"
  }
 },
 "nbformat": 4,
 "nbformat_minor": 5
}
