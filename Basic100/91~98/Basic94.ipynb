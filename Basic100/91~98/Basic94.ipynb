{
 "cells": [
  {
   "cell_type": "markdown",
   "metadata": {},
   "source": [
    "# [기초-리스트] 이상한 출석 번호 부르기3\n"
   ]
  },
  {
   "cell_type": "markdown",
   "metadata": {},
   "source": [
    "## 추가 설명\n",
    "\n",
    "정보 선생님은 오늘도 이상한 출석을 부른다.  \n",
    "\n",
    "영일이는 오늘도 다른 생각을 해보았다.  \n",
    "출석 번호를 다 부르지는 않은 것 같은데... 가장 빠른 번호가 뭐였지?  \n",
    "\n",
    "출석 번호를 n번 무작위로 불렀을 때, 가장 빠른 번호를 출력해 보자.  \n",
    "\n",
    "단,   \n",
    "첫 번째 번호와 마지막 번호가 몇 번인지는 아무도 모른다.  \n",
    "음수(-) 번호, 0번 번호도 있을 수 있다.  "
   ]
  },
  {
   "cell_type": "markdown",
   "metadata": {},
   "source": [
    "## 입력 / 출력\n",
    "\n",
    "```\n",
    "입력  \n",
    "번호를 부른 횟수(n, 1 ~ 10000)가 첫 줄에 입력된다.\n",
    "n개의 랜덤 번호(k)가 두 번째 줄에 공백을 사이에 두고 순서대로 입력된다.\n",
    "```\n",
    " \n",
    "```\n",
    "출력  \n",
    "출석을 부른 번호 중에 가장 빠른 번호를 출력한다.\n",
    "```"
   ]
  },
  {
   "cell_type": "code",
   "execution_count": 20,
   "metadata": {},
   "outputs": [
    {
     "name": "stdout",
     "output_type": "stream",
     "text": [
      "5\n",
      "2 6 8 2 3\n",
      "2\n"
     ]
    }
   ],
   "source": [
    "count = int(input())\n",
    "callNumList = input().split()\n",
    "result = int(callNumList[0])\n",
    "\n",
    "for i in range(1, count):\n",
    "    result = min(result, int(callNumList[i]))\n",
    "\n",
    "print(result)"
   ]
  }
 ],
 "metadata": {
  "kernelspec": {
   "display_name": "Python 3",
   "language": "python",
   "name": "python3"
  },
  "language_info": {
   "codemirror_mode": {
    "name": "ipython",
    "version": 3
   },
   "file_extension": ".py",
   "mimetype": "text/x-python",
   "name": "python",
   "nbconvert_exporter": "python",
   "pygments_lexer": "ipython3",
   "version": "3.8.5"
  }
 },
 "nbformat": 4,
 "nbformat_minor": 5
}
