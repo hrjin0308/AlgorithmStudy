{
 "cells": [
  {
   "cell_type": "markdown",
   "metadata": {},
   "source": [
    "# [기초-종합] 함께 문제 푸는 날\n"
   ]
  },
  {
   "cell_type": "markdown",
   "metadata": {},
   "source": [
    "## 추가 설명\n",
    "\n",
    "같은 날 동시에 가입한 3명의 사람들이 온라인 채점시스템에 들어와 문제를 푸는 날짜가\n",
    "매우 규칙적이라고 할 때, 다시 모두 함께 문제를 풀게 되는 그날은 언제일까?\n",
    "\n",
    "예를 들어 3명이 같은 날 가입/등업하고, 각각 3일마다, 7일마다, 9일마다\n",
    "한 번씩 들어온다면, 처음 가입하고 63일 만에 다시 3명이 함께 문제를 풀게 된다."
   ]
  },
  {
   "cell_type": "markdown",
   "metadata": {},
   "source": [
    "## 입력 / 출력\n",
    "\n",
    "```\n",
    "입력  \n",
    "같은 날 동시에 가입한 인원 3명이 규칙적으로 방문하는,\n",
    "방문 주기가 공백을 두고 입력된다. (단, 입력값은 100이하의 자연수이다.)\n",
    "```\n",
    " \n",
    "```\n",
    "출력  \n",
    "3명이 다시 모두 함께 방문해 문제를 풀어보는 날(동시 가입/등업 후 며칠 후?)을 출력한다.\n",
    "```"
   ]
  },
  {
   "cell_type": "code",
   "execution_count": 8,
   "metadata": {},
   "outputs": [
    {
     "name": "stdout",
     "output_type": "stream",
     "text": [
      "3 7 9\n",
      "63\n"
     ]
    }
   ],
   "source": [
    "aDayStr, bDayStr, cDayStr = input().split()\n",
    "aDay = int(aDayStr)\n",
    "bDay = int(bDayStr)\n",
    "cDay = int(cDayStr)\n",
    "result = 1\n",
    "\n",
    "while result % aDay != 0 or result % bDay != 0 or result % cDay != 0:\n",
    "    result += 1\n",
    "\n",
    "print(result)\n"
   ]
  },
  {
   "cell_type": "code",
   "execution_count": 3,
   "metadata": {},
   "outputs": [
    {
     "name": "stdout",
     "output_type": "stream",
     "text": [
      "3 7 9\n",
      "63\n"
     ]
    }
   ],
   "source": [
    "# A, B, C의 최소공배수\n",
    "# ① A와 B의 최소공배수를 구한다.\n",
    "# ② ①에서 구한 A와 B의 최소공배수와 C의 최소공배수를 구한다.\n",
    "\n",
    "def gcd(x, y):\n",
    "    while y != 0:\n",
    "        x, y = y, x % y\n",
    "    return x\n",
    "\n",
    "def lcm(x, y):\n",
    "    return x * y // gcd(x, y)\n",
    "\n",
    "aDayStr, bDayStr, cDayStr = input().split()\n",
    "aDay = int(aDayStr)\n",
    "bDay = int(bDayStr)\n",
    "cDay = int(cDayStr)\n",
    "\n",
    "tmpDay = lcm(aDay, bDay)\n",
    "result = lcm(tmpDay, cDay)\n",
    "\n",
    "print(result)"
   ]
  }
 ],
 "metadata": {
  "kernelspec": {
   "display_name": "Python 3",
   "language": "python",
   "name": "python3"
  },
  "language_info": {
   "codemirror_mode": {
    "name": "ipython",
    "version": 3
   },
   "file_extension": ".py",
   "mimetype": "text/x-python",
   "name": "python",
   "nbconvert_exporter": "python",
   "pygments_lexer": "ipython3",
   "version": "3.8.5"
  }
 },
 "nbformat": 4,
 "nbformat_minor": 5
}
