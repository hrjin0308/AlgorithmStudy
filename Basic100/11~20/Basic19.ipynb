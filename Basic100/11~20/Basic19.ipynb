{
 "cells": [
  {
   "cell_type": "markdown",
   "metadata": {},
   "source": [
    " # [기초-입출력] 연월일 입력받아 순서 바꿔 출력하기\n",
    " \n",
    "```\n",
    "입력  \n",
    "연도, 월, 일이 닷('.')으로 구분되어 입력된다.\n",
    "```\n",
    " \n",
    "```\n",
    "출력  \n",
    "대시(마이너스 기호)를 구분기호로 사용해서\n",
    "일-월-연도로 바꿔 출력한다.\n",
    "```"
   ]
  },
  {
   "cell_type": "code",
   "execution_count": 1,
   "metadata": {},
   "outputs": [
    {
     "name": "stdout",
     "output_type": "stream",
     "text": [
      "2021.05.02\n",
      "02-05-2021\n"
     ]
    }
   ],
   "source": [
    "year, month, day = input().split(\".\")\n",
    "print(day, month, year, sep = \"-\")"
   ]
  }
 ],
 "metadata": {
  "kernelspec": {
   "display_name": "Python 3",
   "language": "python",
   "name": "python3"
  },
  "language_info": {
   "codemirror_mode": {
    "name": "ipython",
    "version": 3
   },
   "file_extension": ".py",
   "mimetype": "text/x-python",
   "name": "python",
   "nbconvert_exporter": "python",
   "pygments_lexer": "ipython3",
   "version": "3.8.5"
  }
 },
 "nbformat": 4,
 "nbformat_minor": 4
}
