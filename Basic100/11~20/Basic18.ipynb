{
 "cells": [
  {
   "cell_type": "markdown",
   "metadata": {},
   "source": [
    " # [기초-입출력] 시간 입력받아 그대로 출력하기\n",
    " \n",
    "```\n",
    "입력  \n",
    "시(hour) 분(minute)이 콜론(':')으로 구분되어 한 줄로 입력된다.\n",
    "```\n",
    " \n",
    "```\n",
    "출력  \n",
    "입력받은 시간 형식과 똑같이 \"시:분\" 형태로 출력한다.\n",
    "```"
   ]
  },
  {
   "cell_type": "code",
   "execution_count": 4,
   "metadata": {},
   "outputs": [
    {
     "name": "stdout",
     "output_type": "stream",
     "text": [
      "11:22\n",
      "11:22\n"
     ]
    }
   ],
   "source": [
    "hour, minute = input().split(\":\")\n",
    "print(\"{0}:{1}\".format(hour, minute))"
   ]
  },
  {
   "cell_type": "code",
   "execution_count": 5,
   "metadata": {},
   "outputs": [
    {
     "name": "stdout",
     "output_type": "stream",
     "text": [
      "10:35\n",
      "10:35\n"
     ]
    }
   ],
   "source": [
    "hour, minute = input().split(\":\")\n",
    "print(hour, minute, sep = \":\")"
   ]
  }
 ],
 "metadata": {
  "kernelspec": {
   "display_name": "Python 3",
   "language": "python",
   "name": "python3"
  },
  "language_info": {
   "codemirror_mode": {
    "name": "ipython",
    "version": 3
   },
   "file_extension": ".py",
   "mimetype": "text/x-python",
   "name": "python",
   "nbconvert_exporter": "python",
   "pygments_lexer": "ipython3",
   "version": "3.8.5"
  }
 },
 "nbformat": 4,
 "nbformat_minor": 4
}
