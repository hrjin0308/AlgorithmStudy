{
 "cells": [
  {
   "cell_type": "markdown",
   "metadata": {},
   "source": [
    "# [기초-조건/선택실행구조] 정수 3개 입력받아 짝수만 출력하기\n",
    "\n",
    "```\n",
    "입력  \n",
    "3개의 정수(a, b, c)가 공백을 두고 입력된다.\n",
    "0 ~ +2147483647 범위의 정수들이 입력되며 적어도 1개는 짝수이다.\n",
    "```\n",
    " \n",
    "```\n",
    "출력  \n",
    "짝수만 순서대로 줄을 바꿔 출력한다.\n",
    "```"
   ]
  },
  {
   "cell_type": "code",
   "execution_count": 14,
   "metadata": {},
   "outputs": [
    {
     "name": "stdout",
     "output_type": "stream",
     "text": [
      "2 3 4\n",
      "2\n",
      "4\n"
     ]
    }
   ],
   "source": [
    "a, b, c = input().split()\n",
    "numbers = [int(a), int(b), int(c)]\n",
    "\n",
    "for number in numbers:\n",
    "    if number % 2 == 0:\n",
    "        print(number)"
   ]
  }
 ],
 "metadata": {
  "kernelspec": {
   "display_name": "Python 3",
   "language": "python",
   "name": "python3"
  },
  "language_info": {
   "codemirror_mode": {
    "name": "ipython",
    "version": 3
   },
   "file_extension": ".py",
   "mimetype": "text/x-python",
   "name": "python",
   "nbconvert_exporter": "python",
   "pygments_lexer": "ipython3",
   "version": "3.8.5"
  }
 },
 "nbformat": 4,
 "nbformat_minor": 4
}
