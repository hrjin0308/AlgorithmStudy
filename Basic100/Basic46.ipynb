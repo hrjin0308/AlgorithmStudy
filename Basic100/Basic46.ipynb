{
 "cells": [
  {
   "cell_type": "markdown",
   "id": "cb51f139",
   "metadata": {},
   "source": [
    "# [기초-비트시프트연산] 정수 1개 입력받아 2배 곱해 출력하기\n",
    "\n",
    "```\n",
    "입력  \n",
    "정수 한 개가 입력된다.\n",
    "단, -1073741824 ~ +1073741823\n",
    "```\n",
    " \n",
    "```\n",
    "출력  \n",
    "2배 곱한 정수를 출력한다.\n",
    "```"
   ]
  },
  {
   "cell_type": "code",
   "execution_count": 2,
   "id": "bb2537d7",
   "metadata": {},
   "outputs": [
    {
     "name": "stdout",
     "output_type": "stream",
     "text": [
      "10\n",
      "20\n",
      "5\n"
     ]
    }
   ],
   "source": [
    "n = int(input())\n",
    "\n",
    "print(n << 1)\n",
    "print(n >> 1)"
   ]
  },
  {
   "cell_type": "code",
   "execution_count": 5,
   "id": "3d31944d",
   "metadata": {},
   "outputs": [
    {
     "name": "stdout",
     "output_type": "stream",
     "text": [
      "1073741824\n",
      "4294967296\n",
      "268435456\n"
     ]
    }
   ],
   "source": [
    "n = int(input())\n",
    "\n",
    "print(n << 2)\n",
    "print(n >> 2)"
   ]
  },
  {
   "cell_type": "markdown",
   "id": "111ac5ae",
   "metadata": {},
   "source": [
    "범위가 4바이트 범위인건 알겟는디 왜 정상적으로 표시가되지...?"
   ]
  },
  {
   "cell_type": "code",
   "execution_count": 8,
   "id": "ab0564fe",
   "metadata": {},
   "outputs": [
    {
     "name": "stdout",
     "output_type": "stream",
     "text": [
      "100000000000000000\n",
      "400000000000000000\n",
      "25000000000000000\n",
      "32\n"
     ]
    }
   ],
   "source": [
    "import sys\n",
    "\n",
    "n = int(input())\n",
    "\n",
    "print(n << 2)\n",
    "print(n >> 2)\n",
    "print(sys.getsizeof(n))"
   ]
  },
  {
   "cell_type": "code",
   "execution_count": 10,
   "id": "6f08a5db",
   "metadata": {},
   "outputs": [
    {
     "name": "stdout",
     "output_type": "stream",
     "text": [
      "1000\n",
      "4000\n",
      "250\n",
      "28\n",
      "28\n"
     ]
    }
   ],
   "source": [
    "import sys\n",
    "\n",
    "n = int(input())\n",
    "a = 1\n",
    "\n",
    "print(n << 2)\n",
    "print(n >> 2)\n",
    "print(sys.getsizeof(n))\n",
    "print(sys.getsizeof(a))"
   ]
  },
  {
   "cell_type": "markdown",
   "id": "2cac5822",
   "metadata": {},
   "source": [
    "## 파이썬에서의 오버플로우\n",
    "\n",
    "* 파이썬 2에서는 정수형 데이터 타입이 int와 long 두 가지가 있었는데, int는 C에서의 그것과 같은 4바이트 데이터형이고, long은 arbitrary precision을 따르는 데이터형이다. 그래서 int 타입 변수의 값이 표현 범위를 넘어서게 되면 자동으로 long으로 타입 변경이 되는 형식이었다.\n",
    "\n",
    "* 파이썬 3에서는 long 타입이 없어지고 int 타입만 남았는데, 이 int가 arbitrary precision을 지원하여 오버플로우가 발생하지 않게 되었다.\n",
    "\n",
    "* 하지만 파이썬3에서도 pydata stack을 사용하는 numpy/pandas 같은 패키지를 사용할 때는 C 스타일이 유지되기 때문에 오버플로우 발생을 고려해야 한다.\n",
    "\n",
    "[출처 - [기초 파이썬] 파이썬 3에는 오버플로우가 없다?](https://ahracho.github.io/posts/python/2017-05-09-python-integer-overflow/)"
   ]
  }
 ],
 "metadata": {
  "kernelspec": {
   "display_name": "Python 3",
   "language": "python",
   "name": "python3"
  },
  "language_info": {
   "codemirror_mode": {
    "name": "ipython",
    "version": 3
   },
   "file_extension": ".py",
   "mimetype": "text/x-python",
   "name": "python",
   "nbconvert_exporter": "python",
   "pygments_lexer": "ipython3",
   "version": "3.8.6"
  }
 },
 "nbformat": 4,
 "nbformat_minor": 5
}
