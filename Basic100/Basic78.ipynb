{
 "cells": [
  {
   "cell_type": "markdown",
   "id": "7483122e",
   "metadata": {},
   "source": [
    "# [기초-종합] 원하는 문자가 입력될 때까지 반복 출력하기\n",
    "\n",
    "```\n",
    "입력  \n",
    "문자들이 1개씩 계속해서 입력된다.\n",
    "```\n",
    " \n",
    "```\n",
    "출력  \n",
    "영문 소문자 'q'가 입력될 때까지 입력한 문자를 계속 출력한다.\n",
    "```"
   ]
  },
  {
   "cell_type": "code",
   "execution_count": 16,
   "id": "7c50405d",
   "metadata": {},
   "outputs": [
    {
     "name": "stdout",
     "output_type": "stream",
     "text": [
      "a\n",
      "a\n",
      "b\n",
      "b\n",
      "c\n",
      "c\n",
      "d\n",
      "d\n",
      "e\n",
      "e\n",
      "q\n",
      "q\n"
     ]
    }
   ],
   "source": [
    "while True:\n",
    "    char = input()\n",
    "    print(char)\n",
    "    if char == \"q\":\n",
    "        break\n",
    "    \n"
   ]
  }
 ],
 "metadata": {
  "kernelspec": {
   "display_name": "Python 3",
   "language": "python",
   "name": "python3"
  },
  "language_info": {
   "codemirror_mode": {
    "name": "ipython",
    "version": 3
   },
   "file_extension": ".py",
   "mimetype": "text/x-python",
   "name": "python",
   "nbconvert_exporter": "python",
   "pygments_lexer": "ipython3",
   "version": "3.8.6"
  }
 },
 "nbformat": 4,
 "nbformat_minor": 5
}
