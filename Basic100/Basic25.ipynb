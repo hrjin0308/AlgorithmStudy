{
 "cells": [
  {
   "cell_type": "markdown",
   "id": "2c16b7e7",
   "metadata": {},
   "source": [
    "# [기초-값변환] 정수 2개 입력받아 합 계산하기\n",
    "\n",
    "```\n",
    "입력  \n",
    "2개의 정수가 공백으로 구분되어 입력된다.\n",
    "```\n",
    " \n",
    "```\n",
    "출력  \n",
    "두 정수의 합을 출력한다.\n",
    "```"
   ]
  },
  {
   "cell_type": "code",
   "execution_count": 2,
   "id": "048978f5",
   "metadata": {
    "scrolled": true
   },
   "outputs": [
    {
     "name": "stdout",
     "output_type": "stream",
     "text": [
      "2 5\n",
      "7\n"
     ]
    }
   ],
   "source": [
    "a, b = input().split()\n",
    "print(int(a) + int(b))"
   ]
  }
 ],
 "metadata": {
  "kernelspec": {
   "display_name": "Python 3",
   "language": "python",
   "name": "python3"
  },
  "language_info": {
   "codemirror_mode": {
    "name": "ipython",
    "version": 3
   },
   "file_extension": ".py",
   "mimetype": "text/x-python",
   "name": "python",
   "nbconvert_exporter": "python",
   "pygments_lexer": "ipython3",
   "version": "3.8.6"
  }
 },
 "nbformat": 4,
 "nbformat_minor": 5
}
