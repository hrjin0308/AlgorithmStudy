{
 "cells": [
  {
   "cell_type": "markdown",
   "id": "17b34038",
   "metadata": {},
   "source": [
    "# [기초-종합] 수 나열하기1\n"
   ]
  },
  {
   "cell_type": "markdown",
   "id": "df524bac",
   "metadata": {},
   "source": [
    "## 입력 / 출력\n",
    "\n",
    "```\n",
    "입력  \n",
    "시작 값(a), 등차의 값(d), 몇 번째 수 인지를 의미하는 정수(n)가\n",
    "공백을 두고 입력된다.(모두 0 ~ 100)\n",
    "```\n",
    " \n",
    "```\n",
    "출력  \n",
    "n번째 수를 출력한다.\n",
    "```"
   ]
  },
  {
   "cell_type": "code",
   "execution_count": 5,
   "id": "abc4245f",
   "metadata": {},
   "outputs": [
    {
     "name": "stdout",
     "output_type": "stream",
     "text": [
      "1 3 5\n",
      "13\n"
     ]
    }
   ],
   "source": [
    "aStr, dStr, nStr = input().split()\n",
    "a = int(aStr)\n",
    "d = int(dStr)\n",
    "n = int(nStr)\n",
    "\n",
    "for i in range(0, n - 1):\n",
    "    a += d\n",
    "\n",
    "print(a)"
   ]
  }
 ],
 "metadata": {
  "kernelspec": {
   "display_name": "Python 3",
   "language": "python",
   "name": "python3"
  },
  "language_info": {
   "codemirror_mode": {
    "name": "ipython",
    "version": 3
   },
   "file_extension": ".py",
   "mimetype": "text/x-python",
   "name": "python",
   "nbconvert_exporter": "python",
   "pygments_lexer": "ipython3",
   "version": "3.8.6"
  }
 },
 "nbformat": 4,
 "nbformat_minor": 5
}
