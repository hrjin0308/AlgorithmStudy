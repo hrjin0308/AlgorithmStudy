{
 "cells": [
  {
   "cell_type": "markdown",
   "id": "6fbed3e4",
   "metadata": {},
   "source": [
    "# [기초-값변환] 정수 입력받아 유니코드 문자로 변환하기\n",
    "\n",
    "```\n",
    "입력  \n",
    "10진 정수 1개(32 ~ 126 범위)가 입력된다.\n",
    "```\n",
    " \n",
    "```\n",
    "출력  \n",
    "유니코드 문자로 출력한다.\n",
    "```"
   ]
  },
  {
   "cell_type": "code",
   "execution_count": 3,
   "id": "3c3f20c4",
   "metadata": {},
   "outputs": [
    {
     "name": "stdout",
     "output_type": "stream",
     "text": [
      "64\n",
      "@\n"
     ]
    }
   ],
   "source": [
    "a = int(input())\n",
    "\n",
    "print(\"{0}\".format(chr(a)))"
   ]
  }
 ],
 "metadata": {
  "kernelspec": {
   "display_name": "Python 3",
   "language": "python",
   "name": "python3"
  },
  "language_info": {
   "codemirror_mode": {
    "name": "ipython",
    "version": 3
   },
   "file_extension": ".py",
   "mimetype": "text/x-python",
   "name": "python",
   "nbconvert_exporter": "python",
   "pygments_lexer": "ipython3",
   "version": "3.8.6"
  }
 },
 "nbformat": 4,
 "nbformat_minor": 5
}
