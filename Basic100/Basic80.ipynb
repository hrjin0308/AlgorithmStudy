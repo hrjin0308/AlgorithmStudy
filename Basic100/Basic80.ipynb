{
 "cells": [
  {
   "cell_type": "markdown",
   "id": "f875bef4",
   "metadata": {},
   "source": [
    "# [기초-종합] 주사위 2개 던지기(설명)\n",
    "\n",
    "```\n",
    "입력  \n",
    "서로 다른 주사위 2개의 면의 개수 n, m이 공백을 두고 입력된다.\n",
    "단, n, m은 10이하의 자연수\n",
    "```\n",
    " \n",
    "```\n",
    "출력  \n",
    "나올 수 있는 주사위의 숫자를 한 세트씩 줄을 바꿔 모두 출력한다.\n",
    "첫 번째 수는 n, 두 번째 수는 m으로 고정해 1부터 오름차순 순서로 출력하도록 한다.\n",
    "```"
   ]
  },
  {
   "cell_type": "code",
   "execution_count": 18,
   "id": "bc790aa4",
   "metadata": {},
   "outputs": [
    {
     "name": "stdout",
     "output_type": "stream",
     "text": [
      "5 6\n",
      "1 1\n",
      "1 2\n",
      "1 3\n",
      "1 4\n",
      "1 5\n",
      "1 6\n",
      "2 1\n",
      "2 2\n",
      "2 3\n",
      "2 4\n",
      "2 5\n",
      "2 6\n",
      "3 1\n",
      "3 2\n",
      "3 3\n",
      "3 4\n",
      "3 5\n",
      "3 6\n",
      "4 1\n",
      "4 2\n",
      "4 3\n",
      "4 4\n",
      "4 5\n",
      "4 6\n",
      "5 1\n",
      "5 2\n",
      "5 3\n",
      "5 4\n",
      "5 5\n",
      "5 6\n"
     ]
    }
   ],
   "source": [
    "diceStr1, diceStr2 = input().split()\n",
    "dice1 = int(diceStr1)\n",
    "dice2 = int(diceStr2)\n",
    "\n",
    "for i in range(1, dice1 + 1):\n",
    "    for j in range(1, dice2 + 1):\n",
    "        print(i, j)\n"
   ]
  }
 ],
 "metadata": {
  "kernelspec": {
   "display_name": "Python 3",
   "language": "python",
   "name": "python3"
  },
  "language_info": {
   "codemirror_mode": {
    "name": "ipython",
    "version": 3
   },
   "file_extension": ".py",
   "mimetype": "text/x-python",
   "name": "python",
   "nbconvert_exporter": "python",
   "pygments_lexer": "ipython3",
   "version": "3.8.6"
  }
 },
 "nbformat": 4,
 "nbformat_minor": 5
}
