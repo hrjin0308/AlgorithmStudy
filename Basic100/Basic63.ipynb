{
 "cells": [
  {
   "cell_type": "markdown",
   "metadata": {},
   "source": [
    "#  [기초-3항연산] 정수 2개 입력받아 큰 값 출력하기\n",
    "\n",
    "```\n",
    "입력  \n",
    "두 정수가 공백을 두고 입력된다.\n",
    "-2147483648 ~ +2147483647\n",
    "```\n",
    " \n",
    "```\n",
    "출력  \n",
    "두 정수 중 큰 값을 10진수로 출력한다.\n",
    "```"
   ]
  },
  {
   "cell_type": "code",
   "execution_count": 6,
   "metadata": {},
   "outputs": [
    {
     "name": "stdout",
     "output_type": "stream",
     "text": [
      "3 5\n",
      "5\n"
     ]
    }
   ],
   "source": [
    "a, b = input().split()\n",
    "numA = int(a)\n",
    "numB = int(b)\n",
    "\n",
    "# print(numA > numB ? numA : numB)\n",
    "print(numA if (numA > numB) else numB)"
   ]
  }
 ],
 "metadata": {
  "kernelspec": {
   "display_name": "Python 3",
   "language": "python",
   "name": "python3"
  },
  "language_info": {
   "codemirror_mode": {
    "name": "ipython",
    "version": 3
   },
   "file_extension": ".py",
   "mimetype": "text/x-python",
   "name": "python",
   "nbconvert_exporter": "python",
   "pygments_lexer": "ipython3",
   "version": "3.8.5"
  }
 },
 "nbformat": 4,
 "nbformat_minor": 4
}
