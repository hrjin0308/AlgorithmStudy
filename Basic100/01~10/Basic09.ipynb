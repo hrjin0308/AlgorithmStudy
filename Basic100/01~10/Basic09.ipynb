{
 "cells": [
  {
   "cell_type": "markdown",
   "id": "82b5fb11",
   "metadata": {},
   "source": [
    "# [기초-입출력] 문자 1개 입력받아 그대로 출력하기\n",
    "\n",
    "```\n",
    "입력  \n",
    "문자 1개가 입력된다.\n",
    "```\n",
    " \n",
    "```\n",
    "출력  \n",
    "입력된 문자를 그대로 출력한다.\n",
    "```"
   ]
  },
  {
   "cell_type": "code",
   "execution_count": 1,
   "id": "a47d0c5f",
   "metadata": {
    "scrolled": true
   },
   "outputs": [
    {
     "name": "stdout",
     "output_type": "stream",
     "text": [
      "b\n",
      "b\n",
      "<class 'str'>\n"
     ]
    }
   ],
   "source": [
    "character = input()\n",
    "print(character)\n",
    "print(type(character))"
   ]
  },
  {
   "cell_type": "code",
   "execution_count": 2,
   "id": "4157c0fc",
   "metadata": {},
   "outputs": [
    {
     "name": "stdout",
     "output_type": "stream",
     "text": [
      "1\n",
      "1\n",
      "<class 'str'>\n"
     ]
    }
   ],
   "source": [
    "character = input()\n",
    "print(character)\n",
    "print(type(character))"
   ]
  },
  {
   "cell_type": "markdown",
   "id": "15240d87",
   "metadata": {},
   "source": [
    "input엔 어떤 걸 넣어도 string으로 들어가네...\n",
    "알아서 타입 추론해서 넣어주는건 안되나?"
   ]
  }
 ],
 "metadata": {
  "kernelspec": {
   "display_name": "Python 3",
   "language": "python",
   "name": "python3"
  },
  "language_info": {
   "codemirror_mode": {
    "name": "ipython",
    "version": 3
   },
   "file_extension": ".py",
   "mimetype": "text/x-python",
   "name": "python",
   "nbconvert_exporter": "python",
   "pygments_lexer": "ipython3",
   "version": "3.8.6"
  }
 },
 "nbformat": 4,
 "nbformat_minor": 5
}
