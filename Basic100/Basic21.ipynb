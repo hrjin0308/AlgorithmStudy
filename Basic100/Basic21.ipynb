{
 "cells": [
  {
   "cell_type": "markdown",
   "metadata": {},
   "source": [
    "# [기초-입출력] 단어 1개 입력받아 나누어 출력하기\n",
    "\n",
    "```\n",
    "입력  \n",
    "5개의 문자로 이루어진 단어 1개가 입력된다.\n",
    "```\n",
    " \n",
    "```\n",
    "출력  \n",
    "각 문자를 한 줄에 한 문자씩 줄을 바꿔 출력한다.\n",
    "```"
   ]
  },
  {
   "cell_type": "code",
   "execution_count": 1,
   "metadata": {},
   "outputs": [
    {
     "name": "stdout",
     "output_type": "stream",
     "text": [
      "abcde\n",
      "a\n",
      "b\n",
      "c\n",
      "d\n",
      "e\n"
     ]
    }
   ],
   "source": [
    "str = input()\n",
    "\n",
    "for char in str:\n",
    "    print(char)"
   ]
  }
 ],
 "metadata": {
  "kernelspec": {
   "display_name": "Python 3",
   "language": "python",
   "name": "python3"
  },
  "language_info": {
   "codemirror_mode": {
    "name": "ipython",
    "version": 3
   },
   "file_extension": ".py",
   "mimetype": "text/x-python",
   "name": "python",
   "nbconvert_exporter": "python",
   "pygments_lexer": "ipython3",
   "version": "3.8.5"
  }
 },
 "nbformat": 4,
 "nbformat_minor": 4
}
