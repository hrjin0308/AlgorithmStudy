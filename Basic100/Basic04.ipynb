{
 "cells": [
  {
   "cell_type": "markdown",
   "id": "948ae082",
   "metadata": {},
   "source": [
    "# [기초-출력] 출력하기04\n",
    "\n",
    "```\n",
    "입력  \n",
    "입력 없음\n",
    "```\n",
    " \n",
    "```\n",
    "출력  \n",
    "'Hello'\n",
    "```"
   ]
  },
  {
   "cell_type": "code",
   "execution_count": 1,
   "id": "ebdcb4ee",
   "metadata": {},
   "outputs": [
    {
     "name": "stdout",
     "output_type": "stream",
     "text": [
      "'Hello'\n"
     ]
    }
   ],
   "source": [
    "print(\"'Hello'\")"
   ]
  }
 ],
 "metadata": {
  "kernelspec": {
   "display_name": "Python 3",
   "language": "python",
   "name": "python3"
  },
  "language_info": {
   "codemirror_mode": {
    "name": "ipython",
    "version": 3
   },
   "file_extension": ".py",
   "mimetype": "text/x-python",
   "name": "python",
   "nbconvert_exporter": "python",
   "pygments_lexer": "ipython3",
   "version": "3.8.6"
  }
 },
 "nbformat": 4,
 "nbformat_minor": 5
}
