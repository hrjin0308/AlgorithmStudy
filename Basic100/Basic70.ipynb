{
 "cells": [
  {
   "cell_type": "markdown",
   "metadata": {},
   "source": [
    "# [기초-조건/선택실행구조] 월 입력받아 계절 출력하기\n",
    "\n",
    "```\n",
    "입력  \n",
    "월을 의미하는 1개의 정수가 입력된다.(1 ~ 12)\n",
    "```\n",
    " \n",
    "```\n",
    "출력  \n",
    "계절 이름을 출력한다.\n",
    "\n",
    "월 : 계절 이름\n",
    "12, 1, 2   : winter\n",
    " 3, 4, 5   : spring\n",
    " 6, 7, 8   : summer\n",
    " 9, 10, 11 : fall\n",
    "```"
   ]
  },
  {
   "cell_type": "code",
   "execution_count": 29,
   "metadata": {},
   "outputs": [
    {
     "name": "stdout",
     "output_type": "stream",
     "text": [
      "12\n",
      "winter\n"
     ]
    }
   ],
   "source": [
    "month = int(input())\n",
    "\n",
    "if month in [3, 4, 5]:\n",
    "    print(\"spring\")\n",
    "elif month in [6, 7, 8]:\n",
    "    print(\"summer\")\n",
    "elif month in [9, 10, 11]:\n",
    "    print(\"fall\")\n",
    "else:\n",
    "    print(\"winter\")\n"
   ]
  }
 ],
 "metadata": {
  "kernelspec": {
   "display_name": "Python 3",
   "language": "python",
   "name": "python3"
  },
  "language_info": {
   "codemirror_mode": {
    "name": "ipython",
    "version": 3
   },
   "file_extension": ".py",
   "mimetype": "text/x-python",
   "name": "python",
   "nbconvert_exporter": "python",
   "pygments_lexer": "ipython3",
   "version": "3.8.5"
  }
 },
 "nbformat": 4,
 "nbformat_minor": 4
}
