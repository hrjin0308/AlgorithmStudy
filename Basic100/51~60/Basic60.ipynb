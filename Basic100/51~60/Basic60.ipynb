{
 "cells": [
  {
   "cell_type": "markdown",
   "metadata": {},
   "source": [
    "# [기초-비트단위논리연산] 비트단위로 AND 하여 출력하기\n",
    "\n",
    "\n",
    "비트 연산이 제일 싫어.....\n",
    "\n",
    "```\n",
    "입력  \n",
    "2개의 정수가 공백을 두고 입력된다.\n",
    "-2147483648 ~ +2147483647\n",
    "```\n",
    " \n",
    "```\n",
    "출력  \n",
    "두 정수를 비트단위(bitwise)로 and 계산을 수행한 결과를 10진수로 출력한다.\n",
    "```"
   ]
  },
  {
   "cell_type": "markdown",
   "metadata": {},
   "source": [
    "## 참고\n",
    "\n",
    "예를 들어 3과 5가 입력되었을 때를 살펴보면  \n",
    "3       : 00000000 00000000 00000000 00000011  \n",
    "5       : 00000000 00000000 00000000 00000101  \n",
    "3 & 5 : 00000000 00000000 00000000 00000001  \n",
    "이 된다.\n",
    "\n",
    "비트단위 and 연산은 두 비트열이 주어졌을 때,  \n",
    "둘 다 1인 부분의 자리만 1로 만들어주는 것과 같다.  \n",
    "\n",
    "이 연산을 이용하면 어떤 비트열의 특정 부분만 모두 0으로도 만들 수 있는데  \n",
    "192.168.0.31   : 11000000.10101000.00000000.00011111  \n",
    "255.255.255.0 : 11111111.11111111.11111111.00000000  \n",
    "\n",
    "두 개의 ip 주소를 & 연산하면  \n",
    "192.168.0.0 :     110000000.10101000.0000000.00000000 을 계산할 수 있다. \n",
    "\n",
    "![비트 연산](https://codeup.kr/upload/pimg6225_1.png)"
   ]
  },
  {
   "cell_type": "code",
   "execution_count": 2,
   "metadata": {},
   "outputs": [
    {
     "name": "stdout",
     "output_type": "stream",
     "text": [
      "3 5\n",
      "1\n"
     ]
    }
   ],
   "source": [
    "a, b = input().split()\n",
    "\n",
    "print(int(a) & int(b))"
   ]
  }
 ],
 "metadata": {
  "kernelspec": {
   "display_name": "Python 3",
   "language": "python",
   "name": "python3"
  },
  "language_info": {
   "codemirror_mode": {
    "name": "ipython",
    "version": 3
   },
   "file_extension": ".py",
   "mimetype": "text/x-python",
   "name": "python",
   "nbconvert_exporter": "python",
   "pygments_lexer": "ipython3",
   "version": "3.8.5"
  }
 },
 "nbformat": 4,
 "nbformat_minor": 4
}
