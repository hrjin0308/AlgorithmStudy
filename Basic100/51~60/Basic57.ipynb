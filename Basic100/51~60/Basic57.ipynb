{
 "cells": [
  {
   "cell_type": "markdown",
   "metadata": {},
   "source": [
    "# [기초-논리연산] 참/거짓이 서로 같을 때에만 참 출력하기\n",
    "\n",
    "```\n",
    "입력  \n",
    "2개의 정수가 공백을 두고 입력된다.\n",
    "```\n",
    " \n",
    "```\n",
    "출력  \n",
    "두 값의 True / False 값이 서로 같을 경우만 True 를 출력하고, 그 외의 경우에는 False 를 출력한다.\n",
    "```"
   ]
  },
  {
   "cell_type": "code",
   "execution_count": 9,
   "metadata": {},
   "outputs": [
    {
     "name": "stdout",
     "output_type": "stream",
     "text": [
      "1 1\n",
      "True\n"
     ]
    }
   ],
   "source": [
    "a, b = input().split()\n",
    "boolA = bool(int(a))\n",
    "boolB = bool(int(b))\n",
    "\n",
    "print(boolA == boolB)"
   ]
  },
  {
   "cell_type": "code",
   "execution_count": 10,
   "metadata": {},
   "outputs": [
    {
     "name": "stdout",
     "output_type": "stream",
     "text": [
      "0 0 \n",
      "True\n"
     ]
    }
   ],
   "source": [
    "a, b = input().split()\n",
    "boolA = bool(int(a))\n",
    "boolB = bool(int(b))\n",
    "\n",
    "print(boolA == boolB)"
   ]
  },
  {
   "cell_type": "code",
   "execution_count": 12,
   "metadata": {},
   "outputs": [
    {
     "name": "stdout",
     "output_type": "stream",
     "text": [
      "0 1\n",
      "False\n"
     ]
    }
   ],
   "source": [
    "a, b = input().split()\n",
    "boolA = bool(int(a))\n",
    "boolB = bool(int(b))\n",
    "\n",
    "print(boolA == boolB)"
   ]
  }
 ],
 "metadata": {
  "kernelspec": {
   "display_name": "Python 3",
   "language": "python",
   "name": "python3"
  },
  "language_info": {
   "codemirror_mode": {
    "name": "ipython",
    "version": 3
   },
   "file_extension": ".py",
   "mimetype": "text/x-python",
   "name": "python",
   "nbconvert_exporter": "python",
   "pygments_lexer": "ipython3",
   "version": "3.8.5"
  }
 },
 "nbformat": 4,
 "nbformat_minor": 4
}
