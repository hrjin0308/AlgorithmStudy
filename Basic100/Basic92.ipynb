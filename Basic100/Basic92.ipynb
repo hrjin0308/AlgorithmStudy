{
 "cells": [
  {
   "cell_type": "markdown",
   "metadata": {},
   "source": [
    "# [기초-리스트] 이상한 출석 번호 부르기1\n"
   ]
  },
  {
   "cell_type": "markdown",
   "metadata": {},
   "source": [
    "## 추가 설명\n",
    "\n",
    "정보 선생님은 수업을 시작하기 전에 이상한 출석을 부른다.  \n",
    "\n",
    "선생님은 출석부를 보고 번호를 부르는데,  \n",
    "학생들의 얼굴과 이름을 빨리 익히기 위해 번호를 무작위(랜덤)으로 부른다.  \n",
    "\n",
    "그리고 얼굴과 이름이 잘 기억되지 않는 학생들은 번호를 여러 번 불러  \n",
    "이름과 얼굴을 빨리 익히려고 하는 것이다.  \n",
    "\n",
    "출석 번호를 n번 무작위로 불렀을 때, 각 번호(1 ~ 23)가 불린 횟수를 각각 출력해보자.  \n",
    "\n",
    "- d = []              #어떤 데이터 목록(list) 을 순서대로 저장하기 위해 아무것도 없는 리스트 변수 만들기  \n",
    "- d.append(값)  #d 리스트의 마지막에 원하는 값을 추가(append)해 넣음  \n",
    "- d[a[i]] += 1     #2중 리스트 참조 : 만약 a[i]의 값이 1이었다면? d[1] += 1 이 실행되는 것이다. 1번 카운트 1개 증가..  \n",
    "\n",
    "어떤 값을 기록했다가 다시 사용할 필요가 있을 때, 필요한 변수(variable)를 만들어 사용하는 것처럼,  \n",
    "여러 개의 값을 하나로 묶어 목록으로 기록했다가 다시 사용할 필요가 있을 때, 리스트(list)를 만들어 사용할 수 있다.  \n",
    "리스트는 변수들을 모아 놓은 변수라고 생각할 수도 있고, 참조번호를 이용해 간단하고 편리하게 사용할 수 있다.  "
   ]
  },
  {
   "cell_type": "markdown",
   "metadata": {},
   "source": [
    "## 입력 / 출력\n",
    "\n",
    "```\n",
    "입력  \n",
    "첫 번째 줄에 출석 번호를 부른 횟수인 정수 n이 입력된다. (1 ~ 10000)\n",
    "두 번째 줄에는 무작위로 부른 n개의 번호(1 ~ 23)가 공백을 두고 순서대로 입력된다.\n",
    "```\n",
    " \n",
    "```\n",
    "출력  \n",
    "1번부터 번호가 불린 횟수를 순서대로 공백으로 구분하여 한 줄로 출력한다.\n",
    "```"
   ]
  },
  {
   "cell_type": "code",
   "execution_count": 12,
   "metadata": {},
   "outputs": [
    {
     "name": "stdout",
     "output_type": "stream",
     "text": [
      "3\n",
      "1 2 3\n",
      "1 1 1 0 0 0 0 0 0 0 0 0 0 0 0 0 0 0 0 0 0 0 0 "
     ]
    }
   ],
   "source": [
    "lastStudentNum = 23\n",
    "count = int(input())\n",
    "callNumList = input().split()\n",
    "calledCountList = []\n",
    "\n",
    "# calledCountList init\n",
    "for i in range(0, lastStudentNum):\n",
    "    calledCountList.append(0)\n",
    "\n",
    "for num in callNumList:\n",
    "    calledCountList[int(num) - 1] += 1\n",
    "\n",
    "for result in calledCountList:\n",
    "    print(result, end = \" \")\n"
   ]
  }
 ],
 "metadata": {
  "kernelspec": {
   "display_name": "Python 3",
   "language": "python",
   "name": "python3"
  },
  "language_info": {
   "codemirror_mode": {
    "name": "ipython",
    "version": 3
   },
   "file_extension": ".py",
   "mimetype": "text/x-python",
   "name": "python",
   "nbconvert_exporter": "python",
   "pygments_lexer": "ipython3",
   "version": "3.8.5"
  }
 },
 "nbformat": 4,
 "nbformat_minor": 5
}
