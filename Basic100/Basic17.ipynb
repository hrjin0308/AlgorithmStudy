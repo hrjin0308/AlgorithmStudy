{
 "cells": [
  {
   "cell_type": "markdown",
   "metadata": {},
   "source": [
    "# [기초-입출력] 문장 1개 입력받아 3번 출력하기\n",
    "\n",
    "```\n",
    "입력  \n",
    "1개의 데이터가 입력된다.\n",
    "```\n",
    " \n",
    "```\n",
    "출력  \n",
    "공백을 두고 3번 출력한다.\n",
    "```"
   ]
  },
  {
   "cell_type": "code",
   "execution_count": 1,
   "metadata": {},
   "outputs": [
    {
     "name": "stdout",
     "output_type": "stream",
     "text": [
      "hello\n",
      "hello hello hello\n"
     ]
    }
   ],
   "source": [
    "a = input()\n",
    "print(a, a, a)"
   ]
  }
 ],
 "metadata": {
  "kernelspec": {
   "display_name": "Python 3",
   "language": "python",
   "name": "python3"
  },
  "language_info": {
   "codemirror_mode": {
    "name": "ipython",
    "version": 3
   },
   "file_extension": ".py",
   "mimetype": "text/x-python",
   "name": "python",
   "nbconvert_exporter": "python",
   "pygments_lexer": "ipython3",
   "version": "3.8.5"
  }
 },
 "nbformat": 4,
 "nbformat_minor": 4
}
