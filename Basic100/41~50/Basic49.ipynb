{
 "cells": [
  {
   "cell_type": "markdown",
   "id": "3ab54b1c",
   "metadata": {},
   "source": [
    "# [기초-비교연산] 정수 2개 입력받아 비교하기2\n",
    "\n",
    "```\n",
    "입력  \n",
    "두 정수 a, b가 공백을 두고 입력된다.\n",
    "-2147483648 <= a, b <= +2147483647\n",
    "```\n",
    " \n",
    "```\n",
    "출력  \n",
    "a와 b의 값이 같은 경우 True 를, 그렇지 않은 경우 False 를 출력한다.\n",
    "```"
   ]
  },
  {
   "cell_type": "code",
   "execution_count": 1,
   "id": "4048b143",
   "metadata": {},
   "outputs": [
    {
     "name": "stdout",
     "output_type": "stream",
     "text": [
      "1 1\n",
      "True\n"
     ]
    }
   ],
   "source": [
    "a, b = input().split()\n",
    "\n",
    "print(a == b)"
   ]
  },
  {
   "cell_type": "code",
   "execution_count": 2,
   "id": "c6abb171",
   "metadata": {},
   "outputs": [
    {
     "name": "stdout",
     "output_type": "stream",
     "text": [
      "2 1\n",
      "False\n"
     ]
    }
   ],
   "source": [
    "a, b = input().split()\n",
    "\n",
    "print(a == b)"
   ]
  }
 ],
 "metadata": {
  "kernelspec": {
   "display_name": "Python 3",
   "language": "python",
   "name": "python3"
  },
  "language_info": {
   "codemirror_mode": {
    "name": "ipython",
    "version": 3
   },
   "file_extension": ".py",
   "mimetype": "text/x-python",
   "name": "python",
   "nbconvert_exporter": "python",
   "pygments_lexer": "ipython3",
   "version": "3.8.6"
  }
 },
 "nbformat": 4,
 "nbformat_minor": 5
}
