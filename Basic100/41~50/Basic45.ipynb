{
 "cells": [
  {
   "cell_type": "markdown",
   "id": "1ae77cc6",
   "metadata": {},
   "source": [
    "# [기초-산술연산] 정수 3개 입력받아 합과 평균 출력하기\n",
    "\n",
    "```\n",
    "입력  \n",
    "정수 3개가 공백을 두고 입력된다.\n",
    "```\n",
    " \n",
    "```\n",
    "출력  \n",
    "합과 평균을 공백을 두고 출력한다.\n",
    "평균은 소숫점 이하 셋째 자리에서 반올림하여 둘째 자리까지 출력한다.\n",
    "```"
   ]
  },
  {
   "cell_type": "code",
   "execution_count": 3,
   "id": "a5bd1784",
   "metadata": {},
   "outputs": [
    {
     "name": "stdout",
     "output_type": "stream",
     "text": [
      "1 2 3\n",
      "6 2.00\n"
     ]
    }
   ],
   "source": [
    "a, b, c = input().split()\n",
    "sum = int(a) + int(b) + int(c)\n",
    "avg = sum / 3\n",
    "print(sum, format(avg, \".2f\"))"
   ]
  }
 ],
 "metadata": {
  "kernelspec": {
   "display_name": "Python 3",
   "language": "python",
   "name": "python3"
  },
  "language_info": {
   "codemirror_mode": {
    "name": "ipython",
    "version": 3
   },
   "file_extension": ".py",
   "mimetype": "text/x-python",
   "name": "python",
   "nbconvert_exporter": "python",
   "pygments_lexer": "ipython3",
   "version": "3.8.6"
  }
 },
 "nbformat": 4,
 "nbformat_minor": 5
}
