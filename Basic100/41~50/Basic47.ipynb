{
 "cells": [
  {
   "cell_type": "markdown",
   "id": "60252b19",
   "metadata": {},
   "source": [
    "# [기초-비트시프트연산] 2의 거듭제곱 배로 곱해 출력하기\n",
    "\n",
    "```\n",
    "입력  \n",
    "정수 2개(a, b)가 공백을 두고 입력된다.\n",
    "0 <= a, b <= 10\n",
    "```\n",
    " \n",
    "```\n",
    "출력  \n",
    "a 를 2^b배 만큼 곱한 값을 출력한다.\n",
    "```"
   ]
  },
  {
   "cell_type": "code",
   "execution_count": 1,
   "id": "d8c98480",
   "metadata": {},
   "outputs": [
    {
     "name": "stdout",
     "output_type": "stream",
     "text": [
      "2 6\n",
      "128\n"
     ]
    }
   ],
   "source": [
    "a, b = input().split()\n",
    "\n",
    "print(int(a) << int(b))"
   ]
  }
 ],
 "metadata": {
  "kernelspec": {
   "display_name": "Python 3",
   "language": "python",
   "name": "python3"
  },
  "language_info": {
   "codemirror_mode": {
    "name": "ipython",
    "version": 3
   },
   "file_extension": ".py",
   "mimetype": "text/x-python",
   "name": "python",
   "nbconvert_exporter": "python",
   "pygments_lexer": "ipython3",
   "version": "3.8.6"
  }
 },
 "nbformat": 4,
 "nbformat_minor": 5
}
