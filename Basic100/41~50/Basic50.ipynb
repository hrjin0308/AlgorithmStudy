{
 "cells": [
  {
   "cell_type": "markdown",
   "id": "f7b74b3a",
   "metadata": {},
   "source": [
    "# [기초-비교연산] 정수 2개 입력받아 비교하기3\n",
    "\n",
    "```\n",
    "입력  \n",
    "2개의 정수(a, b)가 공백을 두고 입력된다.\n",
    "-2147483647 <= a, b <= +2147483648\n",
    "```\n",
    " \n",
    "```\n",
    "출력  \n",
    "b가 a보다 크거나 같은 경우 True 를, 그렇지 않은 경우 False 를 출력한다.\n",
    "```"
   ]
  },
  {
   "cell_type": "code",
   "execution_count": 1,
   "id": "247fabc9",
   "metadata": {},
   "outputs": [
    {
     "name": "stdout",
     "output_type": "stream",
     "text": [
      "1 1\n",
      "True\n"
     ]
    }
   ],
   "source": [
    "a, b = input().split()\n",
    "\n",
    "print(int(a) <= int(b))"
   ]
  },
  {
   "cell_type": "code",
   "execution_count": 2,
   "id": "8b5c7be7",
   "metadata": {},
   "outputs": [
    {
     "name": "stdout",
     "output_type": "stream",
     "text": [
      "1 2\n",
      "True\n"
     ]
    }
   ],
   "source": [
    "a, b = input().split()\n",
    "\n",
    "print(int(a) <= int(b))"
   ]
  },
  {
   "cell_type": "code",
   "execution_count": 3,
   "id": "75875407",
   "metadata": {},
   "outputs": [
    {
     "name": "stdout",
     "output_type": "stream",
     "text": [
      "2 1\n",
      "False\n"
     ]
    }
   ],
   "source": [
    "a, b = input().split()\n",
    "\n",
    "print(int(a) <= int(b))"
   ]
  }
 ],
 "metadata": {
  "kernelspec": {
   "display_name": "Python 3",
   "language": "python",
   "name": "python3"
  },
  "language_info": {
   "codemirror_mode": {
    "name": "ipython",
    "version": 3
   },
   "file_extension": ".py",
   "mimetype": "text/x-python",
   "name": "python",
   "nbconvert_exporter": "python",
   "pygments_lexer": "ipython3",
   "version": "3.8.6"
  }
 },
 "nbformat": 4,
 "nbformat_minor": 5
}
