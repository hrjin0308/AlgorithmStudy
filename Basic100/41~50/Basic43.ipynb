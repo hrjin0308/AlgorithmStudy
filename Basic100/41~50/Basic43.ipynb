{
 "cells": [
  {
   "cell_type": "markdown",
   "id": "f5d88917",
   "metadata": {},
   "source": [
    "# [기초-산술연산] 실수 2개 입력받아 나눈 결과 계산하기\n",
    "\n",
    "```\n",
    "입력  \n",
    "2개의 실수(f1, f2)가 공백으로 구분되어 입력된다.\n",
    "```\n",
    " \n",
    "```\n",
    "출력  \n",
    "f1을 f2로 나눈 결과를 소숫점 이하 넷째 자리에서 반올림하여 소숫점 세 번째 자리까지 출력한다.\n",
    "```"
   ]
  },
  {
   "cell_type": "code",
   "execution_count": 2,
   "id": "46125fe2",
   "metadata": {},
   "outputs": [
    {
     "name": "stdout",
     "output_type": "stream",
     "text": [
      "2.3 1.2\n",
      "1.917\n"
     ]
    }
   ],
   "source": [
    "f1, f2 = input().split()\n",
    "result = float(f1) / float(f2)\n",
    "\n",
    "print(format(result, \".3f\"))"
   ]
  }
 ],
 "metadata": {
  "kernelspec": {
   "display_name": "Python 3",
   "language": "python",
   "name": "python3"
  },
  "language_info": {
   "codemirror_mode": {
    "name": "ipython",
    "version": 3
   },
   "file_extension": ".py",
   "mimetype": "text/x-python",
   "name": "python",
   "nbconvert_exporter": "python",
   "pygments_lexer": "ipython3",
   "version": "3.8.6"
  }
 },
 "nbformat": 4,
 "nbformat_minor": 5
}
