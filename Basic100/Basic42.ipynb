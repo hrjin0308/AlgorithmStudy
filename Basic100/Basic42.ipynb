{
 "cells": [
  {
   "cell_type": "markdown",
   "id": "33561f58",
   "metadata": {},
   "source": [
    "# [기초-값변환] 실수 1개 입력받아 소숫점이하 자리 변환하기\n",
    "\n",
    "```\n",
    "입력  \n",
    "실수 1개가 입력된다.\n",
    "```\n",
    " \n",
    "```\n",
    "출력  \n",
    "소숫점 이하 두 번째 자리까지의 정확도로 반올림한 값을 출력한다. \n",
    "```"
   ]
  },
  {
   "cell_type": "code",
   "execution_count": 2,
   "id": "04292d66",
   "metadata": {},
   "outputs": [
    {
     "name": "stdout",
     "output_type": "stream",
     "text": [
      "3.256\n",
      "3.26\n"
     ]
    }
   ],
   "source": [
    "a = float(input())\n",
    "\n",
    "print(format(a, \".2f\"))"
   ]
  }
 ],
 "metadata": {
  "kernelspec": {
   "display_name": "Python 3",
   "language": "python",
   "name": "python3"
  },
  "language_info": {
   "codemirror_mode": {
    "name": "ipython",
    "version": 3
   },
   "file_extension": ".py",
   "mimetype": "text/x-python",
   "name": "python",
   "nbconvert_exporter": "python",
   "pygments_lexer": "ipython3",
   "version": "3.8.6"
  }
 },
 "nbformat": 4,
 "nbformat_minor": 5
}
