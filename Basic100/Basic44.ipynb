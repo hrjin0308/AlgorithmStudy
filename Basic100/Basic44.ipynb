{
 "cells": [
  {
   "cell_type": "markdown",
   "id": "7d0e3131",
   "metadata": {},
   "source": [
    "# [기초-산술연산] 정수 2개 입력받아 자동 계산하기\n",
    "\n",
    "```\n",
    "입력  \n",
    "정수 2개가 공백을 두고 입력된다.\n",
    "```\n",
    " \n",
    "```\n",
    "출력  \n",
    "첫 번째 줄에 합\n",
    "두 번째 줄에 차,\n",
    "세 번째 줄에 곱,\n",
    "네 번째 줄에 몫,\n",
    "다섯 번째 줄에 나머지,\n",
    "여섯 번째 줄에 나눈 값을 순서대로 출력한다.\n",
    "(실수, 소수점 이하 둘째 자리까지의 정확도로 출력)\n",
    "```"
   ]
  },
  {
   "cell_type": "code",
   "execution_count": 1,
   "id": "04d1eb97",
   "metadata": {},
   "outputs": [
    {
     "name": "stdout",
     "output_type": "stream",
     "text": [
      "2 5\n",
      "7\n",
      "-3\n",
      "10\n",
      "0\n",
      "2\n",
      "0.40\n"
     ]
    }
   ],
   "source": [
    "a, b = input().split()\n",
    "num1 = int(a)\n",
    "num2 = int(b)\n",
    "\n",
    "# 합\n",
    "print(num1 + num2)\n",
    "# 차\n",
    "print(num1 - num2)\n",
    "# 곱\n",
    "print(num1 * num2)\n",
    "# 몫\n",
    "print(num1 // num2)\n",
    "# 나머지\n",
    "print(num1 % num2)\n",
    "# 나눈 값 (실수, 소수점 이하 둘째 자리)\n",
    "print(format(num1 / num2, \".2f\"))"
   ]
  }
 ],
 "metadata": {
  "kernelspec": {
   "display_name": "Python 3",
   "language": "python",
   "name": "python3"
  },
  "language_info": {
   "codemirror_mode": {
    "name": "ipython",
    "version": 3
   },
   "file_extension": ".py",
   "mimetype": "text/x-python",
   "name": "python",
   "nbconvert_exporter": "python",
   "pygments_lexer": "ipython3",
   "version": "3.8.6"
  }
 },
 "nbformat": 4,
 "nbformat_minor": 5
}
