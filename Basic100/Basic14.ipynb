{
 "cells": [
  {
   "cell_type": "markdown",
   "id": "991a8c52",
   "metadata": {},
   "source": [
    "# [기초-입출력] 실수 1개 입력받아 3번 출력하기\n",
    "\n",
    "```\n",
    "입력  \n",
    "실수 1개가 입력된다.\n",
    "```\n",
    " \n",
    "```\n",
    "출력  \n",
    "입력받은 실수를 줄을 바꿔 3번 출력한다.\n",
    "```"
   ]
  },
  {
   "cell_type": "code",
   "execution_count": 1,
   "id": "f6fa7def",
   "metadata": {},
   "outputs": [
    {
     "name": "stdout",
     "output_type": "stream",
     "text": [
      "ddddd\n",
      "ddddd\n",
      "ddddd\n",
      "ddddd\n"
     ]
    }
   ],
   "source": [
    "a = input()\n",
    "\n",
    "print(a)\n",
    "print(a)\n",
    "print(a)"
   ]
  },
  {
   "cell_type": "code",
   "execution_count": 9,
   "id": "5f79df06",
   "metadata": {
    "scrolled": true
   },
   "outputs": [
    {
     "name": "stdout",
     "output_type": "stream",
     "text": [
      "asdf\n",
      "asdf\n",
      "asdf\n",
      "asdf\n"
     ]
    }
   ],
   "source": [
    "a = input()\n",
    "\n",
    "for i in list(range(0, 3)):\n",
    "    print(a)"
   ]
  }
 ],
 "metadata": {
  "kernelspec": {
   "display_name": "Python 3",
   "language": "python",
   "name": "python3"
  },
  "language_info": {
   "codemirror_mode": {
    "name": "ipython",
    "version": 3
   },
   "file_extension": ".py",
   "mimetype": "text/x-python",
   "name": "python",
   "nbconvert_exporter": "python",
   "pygments_lexer": "ipython3",
   "version": "3.8.6"
  }
 },
 "nbformat": 4,
 "nbformat_minor": 5
}
