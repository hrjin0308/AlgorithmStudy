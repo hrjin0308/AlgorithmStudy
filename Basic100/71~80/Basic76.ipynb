{
 "cells": [
  {
   "cell_type": "markdown",
   "id": "521e8562",
   "metadata": {},
   "source": [
    "# [기초-반복실행구조] 정수 1개 입력받아 그 수까지 출력하기2\n",
    "\n",
    "```\n",
    "입력  \n",
    "정수 1개가 입력된다.\n",
    "(0 ~ 100)\n",
    "```\n",
    " \n",
    "```\n",
    "출력  \n",
    "0부터 그 수까지 줄을 바꿔 한 개씩 출력한다. (range 사용)\n",
    "```"
   ]
  },
  {
   "cell_type": "code",
   "execution_count": 11,
   "id": "6121bb89",
   "metadata": {},
   "outputs": [
    {
     "name": "stdout",
     "output_type": "stream",
     "text": [
      "5\n",
      "0\n",
      "1\n",
      "2\n",
      "3\n",
      "4\n",
      "5\n"
     ]
    }
   ],
   "source": [
    "num = int(input())\n",
    "\n",
    "for i in range(0, num + 1):\n",
    "    print(i)\n"
   ]
  }
 ],
 "metadata": {
  "kernelspec": {
   "display_name": "Python 3",
   "language": "python",
   "name": "python3"
  },
  "language_info": {
   "codemirror_mode": {
    "name": "ipython",
    "version": 3
   },
   "file_extension": ".py",
   "mimetype": "text/x-python",
   "name": "python",
   "nbconvert_exporter": "python",
   "pygments_lexer": "ipython3",
   "version": "3.8.6"
  }
 },
 "nbformat": 4,
 "nbformat_minor": 5
}
