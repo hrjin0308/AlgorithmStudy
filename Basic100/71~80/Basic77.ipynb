{
 "cells": [
  {
   "cell_type": "markdown",
   "id": "8e7dddcb",
   "metadata": {},
   "source": [
    "# [기초-종합] 짝수 합 구하기\n",
    "\n",
    "```\n",
    "입력  \n",
    "정수 1개가 입력된다.\n",
    "(0 ~ 100)\n",
    "```\n",
    " \n",
    "```\n",
    "출력  \n",
    "1부터 그 수까지 짝수만 합해 출력한다.\n",
    "```"
   ]
  },
  {
   "cell_type": "code",
   "execution_count": 15,
   "id": "143a1cb4",
   "metadata": {},
   "outputs": [
    {
     "name": "stdout",
     "output_type": "stream",
     "text": [
      "5\n",
      "6\n"
     ]
    }
   ],
   "source": [
    "num = int(input())\n",
    "result = 0\n",
    "\n",
    "for i in range(1, num + 1):\n",
    "    if i % 2 == 0:\n",
    "        result += i\n",
    "print(result)"
   ]
  }
 ],
 "metadata": {
  "kernelspec": {
   "display_name": "Python 3",
   "language": "python",
   "name": "python3"
  },
  "language_info": {
   "codemirror_mode": {
    "name": "ipython",
    "version": 3
   },
   "file_extension": ".py",
   "mimetype": "text/x-python",
   "name": "python",
   "nbconvert_exporter": "python",
   "pygments_lexer": "ipython3",
   "version": "3.8.6"
  }
 },
 "nbformat": 4,
 "nbformat_minor": 5
}
