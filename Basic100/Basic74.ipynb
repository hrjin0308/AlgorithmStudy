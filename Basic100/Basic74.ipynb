{
 "cells": [
  {
   "cell_type": "markdown",
   "id": "da2df26f",
   "metadata": {},
   "source": [
    "# [기초-반복실행구조] 문자 1개 입력받아 알파벳 출력하기\n",
    "\n",
    "```\n",
    "입력  \n",
    "영문자 1개가 입력된다.\n",
    "(a ~ z)\n",
    "```\n",
    " \n",
    "```\n",
    "출력  \n",
    "a부터 입력한 문자까지 순서대로 공백을 두고 한 줄로 출력한다.\n",
    "```"
   ]
  },
  {
   "cell_type": "code",
   "execution_count": 5,
   "id": "c93ab7dc",
   "metadata": {},
   "outputs": [
    {
     "name": "stdout",
     "output_type": "stream",
     "text": [
      "t\n",
      "a\n",
      "b\n",
      "c\n",
      "d\n",
      "e\n",
      "f\n",
      "g\n",
      "h\n",
      "i\n",
      "j\n",
      "k\n",
      "l\n",
      "m\n",
      "n\n",
      "o\n",
      "p\n",
      "q\n",
      "r\n",
      "s\n",
      "t\n"
     ]
    }
   ],
   "source": [
    "charNum = ord(input())\n",
    "aNum = ord(\"a\")\n",
    "\n",
    "while aNum <= charNum:\n",
    "    print(chr(aNum))\n",
    "    aNum += 1\n"
   ]
  }
 ],
 "metadata": {
  "kernelspec": {
   "display_name": "Python 3",
   "language": "python",
   "name": "python3"
  },
  "language_info": {
   "codemirror_mode": {
    "name": "ipython",
    "version": 3
   },
   "file_extension": ".py",
   "mimetype": "text/x-python",
   "name": "python",
   "nbconvert_exporter": "python",
   "pygments_lexer": "ipython3",
   "version": "3.8.6"
  }
 },
 "nbformat": 4,
 "nbformat_minor": 5
}
