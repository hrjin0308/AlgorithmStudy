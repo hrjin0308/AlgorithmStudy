{
 "cells": [
  {
   "cell_type": "markdown",
   "metadata": {},
   "source": [
    "#  [기초-리스트] 설탕과자 뽑기\n"
   ]
  },
  {
   "cell_type": "markdown",
   "metadata": {},
   "source": [
    "## 추가 설명\n",
    "\n",
    "부모님과 함께 놀러간 영일이는  \n",
    "설탕과자(설탕을 녹여 물고기 등의 모양을 만든 것) 뽑기를 보게 되었다.  \n",
    "\n",
    "길이가 다른 몇 개의 막대를 바둑판과 같은 격자판에 놓는데,  \n",
    "\n",
    "막대에 있는 설탕과자 이름 아래에 있는 번호를 뽑으면 설탕과자를 가져가는 게임이었다.  \n",
    "(잉어, 붕어, 용 등 여러 가지가 적혀있다.)  \n",
    "\n",
    "![image](https://codeup.kr/upload/pimg6262_1.png)\n",
    "\n",
    "격자판의 세로(h), 가로(w), 막대의 개수(n), 각 막대의 길이(l),  \n",
    "막대를 놓는 방향(d:가로는 0, 세로는 1)과  \n",
    "막대를 놓는 막대의 가장 왼쪽 또는 위쪽의 위치(x, y)가 주어질 때,  \n",
    "\n",
    "격자판을 채운 막대의 모양을 출력하는 프로그램을 만들어보자."
   ]
  },
  {
   "cell_type": "markdown",
   "metadata": {},
   "source": [
    "## 입력 / 출력\n",
    "\n",
    "```\n",
    "입력  \n",
    "첫 줄에 격자판의 세로(h), 가로(w) 가 공백을 두고 입력되고,\n",
    "두 번째 줄에 놓을 수 있는 막대의 개수(n)\n",
    "세 번째 줄부터 각 막대의 길이(l), 방향(d), 좌표(x, y)가 입력된다.\n",
    "1 <= w, h <= 100\n",
    "1 <= n <= 10\n",
    "d = 0 or 1\n",
    "1 <= x <= 100-h\n",
    "1 <= y <= 100-w\n",
    "```\n",
    " \n",
    "```\n",
    "출력  \n",
    "모든 막대를 놓은 격자판의 상태를 출력한다.\n",
    "막대에 의해 가려진 경우 1, 아닌 경우 0으로 출력한다.\n",
    "단, 각 숫자는 공백으로 구분하여 출력한다.\n",
    "```"
   ]
  },
  {
   "cell_type": "markdown",
   "metadata": {},
   "source": [
    "![image](https://codeup.kr/upload/pimg6262_2.png)\n",
    "\n",
    "이거 때문에 너무 헷갈렸다...."
   ]
  },
  {
   "cell_type": "code",
   "execution_count": 1,
   "metadata": {},
   "outputs": [
    {
     "name": "stdout",
     "output_type": "stream",
     "text": [
      "5 5\n",
      "3\n",
      "2 0 1 1\n",
      "3 1 2 3\n",
      "4 1 2 5\n",
      "1 1 0 0 0 \n",
      "0 0 0 0 0 \n",
      "0 0 0 0 0 \n",
      "0 0 0 0 0 \n",
      "0 0 0 0 0 \n",
      "\n",
      "1 1 0 0 0 \n",
      "0 0 1 0 0 \n",
      "0 0 1 0 0 \n",
      "0 0 1 0 0 \n",
      "0 0 0 0 0 \n",
      "\n",
      "1 1 0 0 0 \n",
      "0 0 1 0 1 \n",
      "0 0 1 0 1 \n",
      "0 0 1 0 1 \n",
      "0 0 0 0 1 \n",
      "\n",
      "1 1 0 0 0 \n",
      "0 0 1 0 1 \n",
      "0 0 1 0 1 \n",
      "0 0 1 0 1 \n",
      "0 0 0 0 1 \n"
     ]
    }
   ],
   "source": [
    "#board init\n",
    "h, w = map(int, input().split())\n",
    "#board = [[0] * w] * h 로 초기화하면 리스트 원소가 다 같은 인스턴스인듯... 하나 바꾸니 다같이 바뀜\n",
    "board = []\n",
    "for i in range(h):\n",
    "  board.append([])\n",
    "  for _ in range(w):\n",
    "    board[i].append(0)\n",
    "\n",
    "#bar count init\n",
    "count = int(input())\n",
    "\n",
    "#barInfo init\n",
    "barInfoList = []\n",
    "for _ in range(count):\n",
    "  l, d, x, y = map(int, input().split())\n",
    "  barInfoList.append((l, d, x, y))\n",
    "\n",
    "#bar setup\n",
    "for info in barInfoList:\n",
    "  length = info[0]\n",
    "  isVertical = bool(info[1])\n",
    "  idxX = info[2] - 1\n",
    "  idxY = info[3] - 1\n",
    "\n",
    "  if isVertical:\n",
    "    # 세로(x값 변화)\n",
    "    for n in range(idxX, min(h, idxX + length)):\n",
    "      board[n][idxY] = 1     \n",
    "  else:\n",
    "    # 가로(y값 변화))\n",
    "    for n in range(idxY, min(w, idxY + length)):\n",
    "      board[idxX][n] = 1\n",
    "\n",
    "  for values in board:\n",
    "    for value in values:\n",
    "      print(value, end = \" \")\n",
    "    print() \n",
    "  print()\n",
    "\n",
    "for values in board:\n",
    "  for value in values:\n",
    "    print(value, end = \" \")\n",
    "  print()"
   ]
  }
 ],
 "metadata": {
  "kernelspec": {
   "display_name": "Python 3",
   "language": "python",
   "name": "python3"
  },
  "language_info": {
   "codemirror_mode": {
    "name": "ipython",
    "version": 3
   },
   "file_extension": ".py",
   "mimetype": "text/x-python",
   "name": "python",
   "nbconvert_exporter": "python",
   "pygments_lexer": "ipython3",
   "version": "3.8.5"
  }
 },
 "nbformat": 4,
 "nbformat_minor": 5
}
