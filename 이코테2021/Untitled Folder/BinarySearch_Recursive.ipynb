{
 "cells": [
  {
   "cell_type": "code",
   "execution_count": 1,
   "id": "afb516dc",
   "metadata": {},
   "outputs": [
    {
     "name": "stdout",
     "output_type": "stream",
     "text": [
      "10 7\n",
      "1 3 5 7 9 11 13 15 17 19\n",
      "4\n"
     ]
    }
   ],
   "source": [
    "def binarySearch(array, target, start ,end):\n",
    "    if start > end:\n",
    "        return None\n",
    "    # 중간점\n",
    "    mid = (start + end) // 2\n",
    "    \n",
    "    # 중간점 값과 target값이 같으면 해당 인덱스 리턴\n",
    "    if array[mid] == target:\n",
    "        return mid\n",
    "    # 중간점 값이 target값보다 크면 중간점보다 하나 작은 인덱스로 재귀\n",
    "    elif array[mid] > target:\n",
    "        return binarySearch(array, target, start, mid - 1)\n",
    "    # 중간점 값이 target값보다 작으면 중간점보다 하나 큰 인덱스로 재귀\n",
    "    else:\n",
    "        return binarySearch(array, target, mid + 1, end)\n",
    "    \n",
    "n, target = list(map(int, input().split()))\n",
    "array = list(map(int, input().split()))\n",
    "\n",
    "result = binarySearch(array, target, 0, n - 1)\n",
    "if result == None:\n",
    "    print(\"원소가 존재하지 않음\")\n",
    "else:\n",
    "    print(result + 1)"
   ]
  }
 ],
 "metadata": {
  "kernelspec": {
   "display_name": "Python 3",
   "language": "python",
   "name": "python3"
  },
  "language_info": {
   "codemirror_mode": {
    "name": "ipython",
    "version": 3
   },
   "file_extension": ".py",
   "mimetype": "text/x-python",
   "name": "python",
   "nbconvert_exporter": "python",
   "pygments_lexer": "ipython3",
   "version": "3.8.6"
  }
 },
 "nbformat": 4,
 "nbformat_minor": 5
}
