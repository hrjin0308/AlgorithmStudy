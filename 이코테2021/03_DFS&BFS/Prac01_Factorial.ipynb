{
 "cells": [
  {
   "cell_type": "code",
   "execution_count": 3,
   "id": "e8066c59",
   "metadata": {},
   "outputs": [
    {
     "name": "stdout",
     "output_type": "stream",
     "text": [
      "# factorialIter time : 0.0001289844512939453\n",
      "# factorialRecurs time : 0.00021791458129882812\n"
     ]
    }
   ],
   "source": [
    "import time\n",
    "\n",
    "def factorialIter(num):\n",
    "    result = 1\n",
    "    for i in range(1, num + 1):\n",
    "        result *= i\n",
    "\n",
    "    return result\n",
    "\n",
    "def factorialRecurs(num):\n",
    "    if num <= 1:\n",
    "        return 1\n",
    "    return num * factorialRecurs(num - 1)\n",
    "\n",
    "\n",
    "start = time.time()  # 시작 시간 저장\n",
    "factorialIter(500)\n",
    "print(\"# factorialIter time :\", time.time() - start)  # 현재시각 - 시작시간 = 실행 시간\n",
    "\n",
    "start2 = time.time()\n",
    "factorialRecurs(500)\n",
    "print(\"# factorialRecurs time :\", time.time() - start2)  # 현재시각 - 시작시간 = 실행 시간"
   ]
  }
 ],
 "metadata": {
  "kernelspec": {
   "display_name": "Python 3",
   "language": "python",
   "name": "python3"
  },
  "language_info": {
   "codemirror_mode": {
    "name": "ipython",
    "version": 3
   },
   "file_extension": ".py",
   "mimetype": "text/x-python",
   "name": "python",
   "nbconvert_exporter": "python",
   "pygments_lexer": "ipython3",
   "version": "3.8.6"
  }
 },
 "nbformat": 4,
 "nbformat_minor": 5
}
