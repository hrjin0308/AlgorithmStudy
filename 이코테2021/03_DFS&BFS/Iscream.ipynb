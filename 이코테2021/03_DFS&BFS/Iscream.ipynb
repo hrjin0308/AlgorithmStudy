{
 "cells": [
  {
   "cell_type": "code",
   "execution_count": 1,
   "metadata": {},
   "outputs": [
    {
     "name": "stdout",
     "output_type": "stream",
     "text": [
      "4 5\n",
      "00110\n",
      "00011\n",
      "11111\n",
      "00000\n",
      "3\n"
     ]
    }
   ],
   "source": [
    "# <문제> 음료수 얼려 먹기: 문제 설명\n",
    "# NxM 크기의 얼음 틀이 있습니다. 구멍이 뚫려 있는 부분은 0, 칸막이가 존재하는 부분은 1로 표시됩니다.\n",
    "# 구멍이 뚫려 있는 부분끼리 상, 하, 좌, 우로 붙어 있는 경우 서로 연결되어 있는 것으로 간주합니다.\n",
    "# 이때 얼음 틀의 모양이 주어졌을 때 생성되는 총 아이스크림의 개수를 구하는 프로그램을 작성하세요.\n",
    "# 다음의 4x5 얼음 틀 예시에서는 아이스크림이 총 3개 생성됩니다.\n",
    "#   00110\n",
    "#   00011\n",
    "#   11111\n",
    "#   00000\n",
    "\n",
    "# 입력조건\n",
    "#   첫 번째 줄에 얼음 틀의 세로 길이 N과 가로 길이 M이 주어집니다. (1 <= N, M <= 1000)\n",
    "#   두 번째 줄부터 N+1번째 줄까지 얼음 틀의 형태가 주어집니다.\n",
    "#   이때 구멍이 뚫려있는 부분은 0, 그렇지 않은 부분은 1입니다.\n",
    "# 출력조건\n",
    "#   한번에 만들 수 있는 아이스크림의 개수를 출력합니다.\n",
    "\n",
    "n, m = map(int, input().split())\n",
    "\n",
    "graph = []\n",
    "for i in range(n):\n",
    "    graph.append(list(map(int, input())))\n",
    "\n",
    "def dfs(x, y):\n",
    "    if x < 0 or x >= n or y < 0 or y >= m:\n",
    "        return False\n",
    "\n",
    "    if graph[x][y] == 0:\n",
    "        graph[x][y] = 1\n",
    "        dfs(x + 1, y)\n",
    "        dfs(x - 1, y)\n",
    "        dfs(x, y + 1)\n",
    "        dfs(x, y - 1)\n",
    "        return True\n",
    "\n",
    "    return False\n",
    "\n",
    "result = 0\n",
    "for i in range(n):\n",
    "    for j in range(m):\n",
    "        if dfs(i, j) == True:\n",
    "            result += 1\n",
    "\n",
    "print(result)"
   ]
  }
 ],
 "metadata": {
  "kernelspec": {
   "display_name": "Python 3",
   "language": "python",
   "name": "python3"
  },
  "language_info": {
   "codemirror_mode": {
    "name": "ipython",
    "version": 3
   },
   "file_extension": ".py",
   "mimetype": "text/x-python",
   "name": "python",
   "nbconvert_exporter": "python",
   "pygments_lexer": "ipython3",
   "version": "3.8.5"
  }
 },
 "nbformat": 4,
 "nbformat_minor": 4
}
