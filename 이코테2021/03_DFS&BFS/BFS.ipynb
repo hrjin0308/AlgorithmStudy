{
 "cells": [
  {
   "cell_type": "code",
   "execution_count": 1,
   "metadata": {},
   "outputs": [
    {
     "name": "stdout",
     "output_type": "stream",
     "text": [
      "1 2 3 8 7 4 5 6 "
     ]
    }
   ],
   "source": [
    "from collections import deque\n",
    "\n",
    "# BFS 메서드 정의\n",
    "def bfs(graph, start, visited):\n",
    "    # 시작 노드를 방문 처리\n",
    "    visited[start] = True\n",
    "    # 시작 노드를 넣어 큐 초기화\n",
    "    queue = deque([start])\n",
    "    while queue:\n",
    "        # 큐에서 하나의 원소를 뽑아 출력하기\n",
    "        v = queue.popleft()\n",
    "        print(v, end=' ')\n",
    "        # 현재 노드와 연결된 다른 노드 중 방문처리 되지 않은 모든 노드를 큐에 추가 후 방문처리\n",
    "        for i in graph[v]:\n",
    "            if not visited[i]:\n",
    "                queue.append(i)\n",
    "                visited[i] = True\n",
    "        \n",
    "# 각 노드가 연결된 정보를 표현 (2차원 리스트)\n",
    "# 보통 DFS 문제에서 노드 번호가 1부터 시작하기 때문에 0번 인덱스를 사용하지 않도록 한다.\n",
    "graph = [\n",
    "    [],\n",
    "    [2, 3, 8],      # 1번 노드에 인접한 노드\n",
    "    [1, 7],         # 2번 노드에 인접한 노드\n",
    "    [1, 4, 5],\n",
    "    [3, 5],\n",
    "    [3, 4],\n",
    "    [7],\n",
    "    [2, 6, 8],      # 7번 노드에 인접한 노드\n",
    "    [1, 7]          # 8번 노드에 인접한 노드\n",
    "]\n",
    "\n",
    "# 각 노드가 방문된 정보를 표현 (1차원 리스트)\n",
    "# 8이 아니라 9인 이유도 0번 인덱스를 사용하지 않기때문에 노드 번호보다 + 1\n",
    "visited = [False] * 9\n",
    "\n",
    "# 정의된 BFS 함수 호출\n",
    "bfs(graph, 1, visited)"
   ]
  }
 ],
 "metadata": {
  "kernelspec": {
   "display_name": "Python 3",
   "language": "python",
   "name": "python3"
  },
  "language_info": {
   "codemirror_mode": {
    "name": "ipython",
    "version": 3
   },
   "file_extension": ".py",
   "mimetype": "text/x-python",
   "name": "python",
   "nbconvert_exporter": "python",
   "pygments_lexer": "ipython3",
   "version": "3.8.5"
  }
 },
 "nbformat": 4,
 "nbformat_minor": 4
}
