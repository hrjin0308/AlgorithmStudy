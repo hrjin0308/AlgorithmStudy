{
 "cells": [
  {
   "cell_type": "markdown",
   "id": "89f9c664",
   "metadata": {},
   "source": [
    "## <문제> 떡볶이 떡 만들기\n",
    "* 오늘 동빈이는 여행 가신 부모님을 대신해서 떡집 일을 하기로 했습니다.   \n",
    "  오늘은 떡볶이 떡을 만드는 날입니다.  \n",
    "  동빈이네 떡볶이 떡은 재밌게도 떡볶이 떡의 길이가 일정하지 않습니다.   \n",
    "  대신 한봉지에 들어가는 떡의 총 길이는 절단기로 잘라서 맞춰줍니다.  \n",
    "* 절단기에 높이(H)를 지정하면 줄지어진 떡을 한 번에 절단합니다.  \n",
    "  높이가 H보다 긴 떡은 H 위의 부분이 잘릴 것이고, 낮은 떡은 잘리지 않습니다.\n",
    "* ex>  \n",
    "  떡의 높이: 19, 14, 10, 17cm  \n",
    "  절단기 높이: 15cm  \n",
    "  떡을 자른 뒤 높이: 15, 14, 10, 15cm  \n",
    "  잘린 떡의 길이: 4, 0, 0, 2cm  \n",
    "  손님이 가져가는 길이: 6cm\n",
    "* 손님이 왔을 때 요청한 총 길이가 M일 때 적어도 M만큼의 떡을 얻기 위해  \n",
    "  절단기에 설정할 수 있는 높이의 최댓값을 구하는 프로그램을 작성"
   ]
  },
  {
   "cell_type": "markdown",
   "id": "f89c20b3",
   "metadata": {},
   "source": [
    "### 입력 조건\n",
    "* 첫째 줄에 떡의 개수 N과 요청한 떡의 길이 M이 주어집니다.(1 <= N <= 1,000,000, 1 <= M <= 2,000,000,000)  \n",
    "* 둘째 줄에는 떡의 개별 높이가 주어집니다. 떡 높이의 총합은 항상 M 이상이므로, 손님은 필요한 양만큼 떡을 사갈 수 있습니다. 높이는 10억보다 작거나 같은 양의 정수 또는 0입니다.\n",
    "\n",
    "### 출력 조건\n",
    "* 적어도 M만큼의 떡을 집에 가져가기 위해 절단기에 설정할 수 있는 높이의 최댓값을 출력합니다.\n",
    "\n",
    "### 입력 예시\n",
    "4 6  \n",
    "19 15 10 17\n",
    "\n",
    "### 출력 예시\n",
    "15"
   ]
  },
  {
   "cell_type": "markdown",
   "id": "e0700fa3",
   "metadata": {},
   "source": [
    "## 문제 해결 아이디어\n",
    "* 적절한 높이를 찾을 때 까지 이진 탐색 수행 -> 높이 H를 반복해서 조정  \n",
    "* '현재 이 높이로 자르면 조건을 만족할 수 있는가?'를 확인한 뒤 조건의 만족 여부('예' 혹은 '아니오')에 따라서 탐색 범위를 좁혀서 해결가능\n",
    "* 절단기의 높이는 0부터 10억까지의 정수 중 하나  \n",
    "   * 큰 탐색범위 :: 이진 탐색!\n",
    "* 중간점의 값은 시간이 지날수록 '최적화된 값'이 되기 때문에, 과정을 반복하면서 얻을 수 있는 떡의 길이 합이 필요한 떡의 길이보다 크거나 같을 때마다 중간점의 값을 기록"
   ]
  },
  {
   "cell_type": "code",
   "execution_count": 1,
   "id": "bbf952ee",
   "metadata": {},
   "outputs": [
    {
     "name": "stdout",
     "output_type": "stream",
     "text": [
      "4 6\n",
      "19 15 10 17\n",
      "15\n"
     ]
    }
   ],
   "source": [
    "n, m = list(map(int, input().split()))\n",
    "heights = list(map(int, input().split()))\n",
    "\n",
    "def binarySearch(start, end):\n",
    "    global deviderH\n",
    "    mid = (start + end) // 2\n",
    "    if end < start:\n",
    "        return\n",
    "    slicedSum = sum([max(0, heights[x]-mid) for x in range(n)])\n",
    "    if slicedSum >= m:\n",
    "        deviderH = mid\n",
    "        binarySearch(mid + 1, end)\n",
    "    else:\n",
    "        binarySearch(start, mid - 1)\n",
    "\n",
    "binarySearch(0, max(heights))\n",
    "print(deviderH)"
   ]
  }
 ],
 "metadata": {
  "kernelspec": {
   "display_name": "Python 3",
   "language": "python",
   "name": "python3"
  },
  "language_info": {
   "codemirror_mode": {
    "name": "ipython",
    "version": 3
   },
   "file_extension": ".py",
   "mimetype": "text/x-python",
   "name": "python",
   "nbconvert_exporter": "python",
   "pygments_lexer": "ipython3",
   "version": "3.8.6"
  }
 },
 "nbformat": 4,
 "nbformat_minor": 5
}
