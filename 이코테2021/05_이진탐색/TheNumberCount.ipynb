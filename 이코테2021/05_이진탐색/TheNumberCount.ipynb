{
 "cells": [
  {
   "cell_type": "markdown",
   "id": "1157ddad",
   "metadata": {},
   "source": [
    "## <문제> 정렬된 배열에서 특정 수의 개수 구하기\n",
    "* N개의 원소를 포함하고 있는 수열이 오름차순으로 정렬되어 있습니다.\n",
    "  이때 이 수열에서 x가 등장하는 횟수를 계산하세요.\n",
    "  ex> 수열 {1, 1, 2, 2, 2, 3}, x = 2, 출력: 4\n",
    "* 단, 이 문제는 시간 복잡도 O(logN)으로 알고리즘을 설계하지 않으면 시간 초과 판정"
   ]
  },
  {
   "cell_type": "markdown",
   "id": "880b7880",
   "metadata": {},
   "source": [
    "### 입력 조건\n",
    "* 첫째 줄에 N과 x가 정수 형태로 공백으로 구분되어 입력됩니다.\n",
    "  (1 <= N <= 1,000,000), (-10^9 <= x <= 10^9)\n",
    "* 둘째 줄에 N개의 원소가 정수 형태로 공백으로 구분되어 입력됩니다.\n",
    "  (-10^9 <= 각 원소의 값 <= 10^9)\n",
    "\n",
    "### 출력 조건\n",
    "* 수열의 원소 중에서 값이 x인 원소의 개수를 출력합니다.\n",
    "  단, 값이 x인 원소가 하나도 없다면 -1을 출력합니다.\n",
    "  \n",
    "### 입력 예시1\n",
    "7 2  \n",
    "1 1 2 2 2 2 3\n",
    "\n",
    "### 출력 예시1\n",
    "4"
   ]
  },
  {
   "cell_type": "code",
   "execution_count": 2,
   "id": "1ab599ed",
   "metadata": {},
   "outputs": [
    {
     "name": "stdout",
     "output_type": "stream",
     "text": [
      "7 2\n",
      "1 1 2 2 2 2 3\n",
      "4\n"
     ]
    }
   ],
   "source": [
    "from bisect import bisect_left, bisect_right\n",
    "\n",
    "n, x = list(map(int, input().split()))\n",
    "array = list(map(int, input().split()))\n",
    "array.sort()\n",
    "count = bisect_right(array, x) - bisect_left(array, x)\n",
    "print(count if count > 0 else -1)"
   ]
  }
 ],
 "metadata": {
  "kernelspec": {
   "display_name": "Python 3",
   "language": "python",
   "name": "python3"
  },
  "language_info": {
   "codemirror_mode": {
    "name": "ipython",
    "version": 3
   },
   "file_extension": ".py",
   "mimetype": "text/x-python",
   "name": "python",
   "nbconvert_exporter": "python",
   "pygments_lexer": "ipython3",
   "version": "3.8.6"
  }
 },
 "nbformat": 4,
 "nbformat_minor": 5
}
