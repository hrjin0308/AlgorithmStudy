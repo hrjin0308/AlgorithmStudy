{
 "cells": [
  {
   "cell_type": "code",
   "execution_count": 4,
   "metadata": {},
   "outputs": [
    {
     "name": "stdout",
     "output_type": "stream",
     "text": [
      "5\n",
      "11475\n"
     ]
    }
   ],
   "source": [
    "# 정수 N이 입력되면 00시 00분 00초부터 N시 59분 59초까지의 모든 시각 중에서 \n",
    "# 3이 하나라도 포함되는 모든 경우의 수를 구하는 프로그램을 작성하세요.\n",
    "# 예를 들어 1을 입력했을 때 다음은 3이 하나라도 포함되어 있으므로 세어야 하는 시각입니다.\n",
    "#\n",
    "# 00시 00분 03초\n",
    "# 00시 13분 30초\n",
    "#\n",
    "# 반면에 다음은 3이 하나도 포함되어 있지 않으므로 세면 안되는 시각입니다.\n",
    "#\n",
    "# 00시 02분 55초\n",
    "# 01시 27분 45초\n",
    "#\n",
    "# 입력 조건\n",
    "# 첫째 줄에 정수 N이 입력됩니다. (0 <= N <= 23)\n",
    "#\n",
    "# 출력 조건\n",
    "# 00시 00분 00초부터 N시 59분 59초까지의 모든 시각 중에서 3이 하나라도 포함되는 모든 경우의 수를 출력합니다.\n",
    "\n",
    "def isContainThree(num):\n",
    "    return num // 10 == 3 or num % 10 == 3\n",
    "\n",
    "n = int(input())\n",
    "count = 0\n",
    "\n",
    "for i in range(n + 1):\n",
    "    for j in range(60):\n",
    "        for k in range(60):\n",
    "            if isContainThree(i) or isContainThree(j) or isContainThree(k):\n",
    "                count += 1\n",
    "\n",
    "print(count)"
   ]
  }
 ],
 "metadata": {
  "kernelspec": {
   "display_name": "Python 3",
   "language": "python",
   "name": "python3"
  },
  "language_info": {
   "codemirror_mode": {
    "name": "ipython",
    "version": 3
   },
   "file_extension": ".py",
   "mimetype": "text/x-python",
   "name": "python",
   "nbconvert_exporter": "python",
   "pygments_lexer": "ipython3",
   "version": "3.8.5"
  }
 },
 "nbformat": 4,
 "nbformat_minor": 4
}
