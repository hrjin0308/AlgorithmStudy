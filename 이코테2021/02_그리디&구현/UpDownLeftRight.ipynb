{
 "cells": [
  {
   "cell_type": "code",
   "execution_count": 1,
   "metadata": {
    "scrolled": true
   },
   "outputs": [
    {
     "name": "stdout",
     "output_type": "stream",
     "text": [
      "5\n",
      "R R R U D D\n",
      "3 4\n"
     ]
    }
   ],
   "source": [
    "# 상하좌우\n",
    "\n",
    "# 여행가 A는 NxN 크기의 정사각형 공간 위에 서 있습니다. 이 공간은 1x1 크기의 정사각형으로 나누어져 있습니다.\n",
    "# 가장 왼쪽 위 좌표는 (1,1)이며, 가장 오른쪽 아래 좌표는 (N, N)에 해당합니다.\n",
    "# 여행가 A는 상, 하, 좌, 우 방향으로 이동할 수 있으며, 시작 좌표는 항상 (1, 1)입니다.\n",
    "# 우리 앞에는 여행가 A가 이동할 계획이 적힌 계획서가 놓여 있습니다.\n",
    "#\n",
    "# 계획서에는 하나의 줄에 띄어쓰기를 기준으로 하여 L, R, U D 중 하나의 문자가 반복적으로 적혀 있습니다.\n",
    "# 각 문자의 의미는 다음과 같습니다.\n",
    "# L : 왼쪽으로 한 칸 이동\n",
    "# R : 오른쪽으로 한 칸 이동\n",
    "# U : 위로 한 칸 이동\n",
    "# D : 아래로 한 칸 이동\n",
    "\n",
    "# 이때 여행가 A가 NxN크기의 정사각형 공간을 벗어나는 움직임은 무시됩니다.\n",
    "# 예를 들어 (1, 1)의 위치에서 L 혹은 U를 만나면 무시됩니다.\n",
    "\n",
    "# 입력조건\n",
    "# 첫째 줄에 공간의 크기를 나타내는 N이 주어집니다. (1 <= N <= 100)\n",
    "# 둘째 줄에 여행가 A가 이동할 계획서 내용이 주어집니다 (1 <= 이동 횟수 <= 100)\n",
    "\n",
    "# 출력 조건\n",
    "# 첫째 줄에 여행가 A가 최종적으로 도착할 지점의 좌표 (X, Y)를 공백을 기준으로 구분하여 출력합니다.\n",
    "\n",
    "n = int(input())\n",
    "directions = input().split()\n",
    "\n",
    "# Down, Right, Up, Left\n",
    "pos = [1, 1]\n",
    "dList = [\"D\", \"R\", \"U\", \"L\"]\n",
    "dx = [1, 0, -1, 0]\n",
    "dy = [0, 1, 0, -1]\n",
    "\n",
    "for direction in directions:\n",
    "    newX = pos[0] + dx[dList.index(direction)]\n",
    "    newY = pos[1] + dy[dList.index(direction)]\n",
    "    pos[0] = newX if newX in range(1, n) else pos[0]\n",
    "    pos[1] = newY if newY in range(1, n) else pos[1]\n",
    "\n",
    "print(pos[0], pos[1])"
   ]
  }
 ],
 "metadata": {
  "kernelspec": {
   "display_name": "Python 3",
   "language": "python",
   "name": "python3"
  },
  "language_info": {
   "codemirror_mode": {
    "name": "ipython",
    "version": 3
   },
   "file_extension": ".py",
   "mimetype": "text/x-python",
   "name": "python",
   "nbconvert_exporter": "python",
   "pygments_lexer": "ipython3",
   "version": "3.8.5"
  }
 },
 "nbformat": 4,
 "nbformat_minor": 4
}
