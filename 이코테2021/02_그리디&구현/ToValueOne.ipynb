{
 "cells": [
  {
   "cell_type": "code",
   "execution_count": 2,
   "id": "43043107",
   "metadata": {},
   "outputs": [
    {
     "data": {
      "text/plain": [
       "2"
      ]
     },
     "execution_count": 2,
     "metadata": {},
     "output_type": "execute_result"
    }
   ],
   "source": [
    "# 나동빈 이코테 2021 강의 2. 그리디 & 구현\n",
    "# <문제> 1이 될 때까지\n",
    "# 어떠한 수 N이 1이 될 때까지 다음의 두 과정 중 하나를 반복적으로 선택하여 수행하려고 합니다. 단, 두번째 연산은 N이 K로 나누어 떨어질 때만 선택할 수 있습니다.\n",
    "#   1. N에서 1을 뺍니다.\n",
    "#   2. N을 K로 나눕니다.\n",
    "# 예를 들어 N이 17, K가 4라고 가정합시다. 이때 1번의 과정을 한 번 수행하면 N은 16이 됩니다. 이후에 2번의 과정을 두 번 수행하면 N은 1이 됩니다. 결과적으로 이 경우 전체 과정을 실행한 횟수는 3이 됩니다. 이는 N을 1로 만드는 최소 횟수입니다.\n",
    "# N과 K가 주어질 때 N이 1이 될 때까지 1번 혹은 2번의 과정을 수행해야 하는 최소 횟수를 구하는 프로그램을 작성하세요.\n",
    "\n",
    "def solution(n, k):\n",
    "  count = 0\n",
    "  tmpN = n\n",
    "  \n",
    "  while tmpN > 1:\n",
    "    # 2번 과정을 먼저 수행하기 위해 K로 나누어 떨어지는지 확인\n",
    "    # 이는 1번 과정인 N에서 1을 빼주는 것 보다 N을 K로 나누어주는게\n",
    "    # N을 더 작은 수로 만들 수 있기 때문\n",
    "    if tmpN % k == 0:\n",
    "      tmpN //= k\n",
    "    else:\n",
    "      tmpN -= 1\n",
    "    \n",
    "    count += 1\n",
    "  \n",
    "  return count\n",
    "\n",
    "solution(25, 5)"
   ]
  }
 ],
 "metadata": {
  "kernelspec": {
   "display_name": "Python 3",
   "language": "python",
   "name": "python3"
  },
  "language_info": {
   "codemirror_mode": {
    "name": "ipython",
    "version": 3
   },
   "file_extension": ".py",
   "mimetype": "text/x-python",
   "name": "python",
   "nbconvert_exporter": "python",
   "pygments_lexer": "ipython3",
   "version": "3.8.6"
  }
 },
 "nbformat": 4,
 "nbformat_minor": 5
}
