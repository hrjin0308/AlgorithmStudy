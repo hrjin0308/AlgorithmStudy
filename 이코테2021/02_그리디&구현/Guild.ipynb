{
 "cells": [
  {
   "cell_type": "code",
   "execution_count": 6,
   "metadata": {},
   "outputs": [
    {
     "name": "stdout",
     "output_type": "stream",
     "text": [
      "5\n",
      "2 3 1 2 2\n",
      "2\n"
     ]
    }
   ],
   "source": [
    "# 한 마을에 모험가가 N명 있습니다. 모험가 길드에서는 N명의 모험가를 대상으로 '공포도'를 측정했는데, \n",
    "# '공포도'가 높은 모험가는 쉽게 공포를 느껴 위험 상황에서 제대로 대처할 능력이 떨어집니다.\n",
    "# 모험가 길드장인 동빈이는 모험가 그룹을 안전하게 구성하고자 공포도가 X인 모험가는 반드시 X명 이상으로 구성한 모험가 그룹에 참여해야\n",
    "# 여행을 떠날 수 있도록 규정했습니다.\n",
    "# 동빈이는 최대 몇개의 모험가 그룹을 만들 수 있는지 궁금합니다. N명의 모험가에 대한 정보가 주어졌을 때,\n",
    "# 여행을 떠날 수 있는 그룹 수의 최댓값을 구하는 프로그램을 작성하세요.\n",
    "\n",
    "# 입력 조건\n",
    "# 첫째 줄에 모험가의 수 N\n",
    "# 둘째 줄에 각 모험가의 공포도 값을 N이하의 자연수로 주어지며, 각 자연수는 공백으로 구분\n",
    "# 출력 조건\n",
    "# 여행을 떠날 수 있는 그룹 수의 최댓값\n",
    "\n",
    "n = int(input())\n",
    "level = list(map(int, input().split()))\n",
    "\n",
    "result = 0\n",
    "a = 0 # 시작 인덱스\n",
    "b = len(level) - 1\n",
    "\n",
    "while True:        \n",
    "    a += level[a]\n",
    "    if a > b:\n",
    "        break\n",
    "    result += 1\n",
    "\n",
    "print(result)\n"
   ]
  }
 ],
 "metadata": {
  "kernelspec": {
   "display_name": "Python 3",
   "language": "python",
   "name": "python3"
  }
 },
 "nbformat": 4,
 "nbformat_minor": 4
}
