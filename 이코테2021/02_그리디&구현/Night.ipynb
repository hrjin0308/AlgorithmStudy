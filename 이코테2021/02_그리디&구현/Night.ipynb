{
 "cells": [
  {
   "cell_type": "code",
   "execution_count": null,
   "metadata": {},
   "outputs": [],
   "source": [
    "# 행복 왕국의 왕실 정원은 체스판과 같은 8x8 좌표 평면입니다.\n",
    "# 왕실 정원의 특정한 한 칸에 나이트가 서 있습니다.\n",
    "# 나이트는 매우 충성스러운 신하로서 매일 무술을 연마합니다.\n",
    "\n",
    "# 나이트는 말을 타고 있기 때문에 이동을 할 때는 L자 형태로만 이동할 수 있으며 정원 밖으로는 나갈 수 없습니다.\n",
    "\n",
    "# 나이트는 특정 위치에서 다음과 같은 2가지 경우로 이동할 수 있습니다.\n",
    "# 1. 수평으로 두 칸 이동한 뒤에 수직으로 한 칸 이동하기\n",
    "# 2. 수직으로 두 칸 이동한 뒤에 수평으로 한 칸 이동하기\n",
    "\n",
    "# 이처럼 8x8 좌표 평면상에서 나이트의 위치가 주어졌을 때 나이트가 이동할 수 있는 경우의 수를 출력하는 프로그램을 작성하세요.\n",
    "# 왕실의 정원에서 행 위치를 표현할 때는 1부터 8로 표현하며, 열 위치를 표현할 때는 a부터 h로 표현합니다.\n",
    "\n",
    "# 입력 조건\n",
    "# 첫째 줄에 8x8 좌표 평면상에서 현재 나이트가 위치한 곳의 좌표를 나타내는 두 문자로 구성된 문자열이 입력된다.\n",
    "# 입력 문자는 a1처럼 열과 행으로 이뤄진다.\n",
    "\n",
    "# 출력 조건\n",
    "# 첫째 줄에 나이트가 이동할 수 있는 경우의 수를 출력하시오.\n",
    "\n",
    "pos = input()\n",
    "\n",
    "dx = [2, 2, 1, 1, -2, -2, -1, -1]\n",
    "dy = [1, -1, 2, -2, 1, -1, 2, -2]\n",
    "\n"
   ]
  }
 ],
 "metadata": {
  "kernelspec": {
   "display_name": "Python 3",
   "language": "python",
   "name": "python3"
  },
  "language_info": {
   "codemirror_mode": {
    "name": "ipython",
    "version": 3
   },
   "file_extension": ".py",
   "mimetype": "text/x-python",
   "name": "python",
   "nbconvert_exporter": "python",
   "pygments_lexer": "ipython3",
   "version": "3.8.5"
  }
 },
 "nbformat": 4,
 "nbformat_minor": 4
}
