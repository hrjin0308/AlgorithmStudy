{
 "cells": [
  {
   "cell_type": "code",
   "execution_count": 1,
   "id": "61105e75",
   "metadata": {},
   "outputs": [
    {
     "name": "stdout",
     "output_type": "stream",
     "text": [
      "576\n",
      "210\n",
      "12\n"
     ]
    }
   ],
   "source": [
    "# 각 자리가 숫자(0부터 9)로만 이루어진 문자열 S가 주어졌을 때, 왼쪽부터 오른쪽으로 하나씩 모든 숫자를 확인하며 숫자 사이에\n",
    "# 'x' 혹은 '+' 연산자를 넣어 결과적으로 만들어질 수 있는 가장 큰 수를 구하는 프로그램을 작성하세요.\n",
    "# 단, +보다 x를 먼저 계산하는 일반적인 방식과 달리, 모든 연산은 왼쪽에서부터 순서대로 이루어진다고 가정합니다.\n",
    "#\n",
    "# 예를 들어 02984라는 문자열로 만들 수 있는 가장 큰 수는 ((((0 + 2) x 9 ) x 8) x 4) = 576 입니다.\n",
    "# 또한 만들어질 수 있는 가장 큰 수는 항상 20억 이하의 정수가 되도록 입력이 주어집니다.\n",
    "\n",
    "# 입력 조건\n",
    "#     첫째 줄에 여러 개의 숫자로 구성된 하나의 문자열 S가 주어집니다. (1 <= S의 길이 <= 20)\n",
    "# 출력 조건\n",
    "#     첫째 줄에 만들어질 수 있는 가장 큰 수를 출력합니다.\n",
    "\n",
    "    # 입력 예시1         출력 예시1\n",
    "    # 02984            576\n",
    "    # 567              210\n",
    "\n",
    "def solution(s):\n",
    "    sum = 0\n",
    "\n",
    "    for c in s:\n",
    "        n = int(c)\n",
    "        # 0 또는 1일 경우 더하기\n",
    "        if sum in range(1) or n in range(1):\n",
    "            sum += n\n",
    "        else:\n",
    "            sum *= n\n",
    "\n",
    "    return sum\n",
    "\n",
    "print(solution(\"02984\"))\n",
    "print(solution(\"567\"))\n",
    "print(solution(\"134\"))"
   ]
  }
 ],
 "metadata": {
  "kernelspec": {
   "display_name": "Python 3",
   "language": "python",
   "name": "python3"
  },
  "language_info": {
   "codemirror_mode": {
    "name": "ipython",
    "version": 3
   },
   "file_extension": ".py",
   "mimetype": "text/x-python",
   "name": "python",
   "nbconvert_exporter": "python",
   "pygments_lexer": "ipython3",
   "version": "3.8.6"
  }
 },
 "nbformat": 4,
 "nbformat_minor": 5
}
