{
 "cells": [
  {
   "cell_type": "markdown",
   "id": "1bbeb39b",
   "metadata": {},
   "source": [
    "## <문제> 1로 만들기\n",
    "* 정수 X가 주어졌을 때, 정수 X에 사용할 수 있는 연산은 다음과 같이 4가지 입니다.\n",
    "  1. X가 5로 나누어 떨어지면, 5로 나눕니다.\n",
    "  2. X가 3으로 나누어 떨어지면, 3으로 나눕니다.\n",
    "  3. X가 2로 나누어 떨어지면 2로 나눕니다.\n",
    "  4. X에서 1을 뺍니다.\n",
    "* 정수 X가 주어졌을 때, 연산 4개를 적절히 사용해서 값을 1로 만들고자 합니다. 연산을 사용하는 횟수의 최솟값을 출력하세요.  \n",
    "  예를 들어 정수가 26이면 다음과 같이 계산해서 3번의 연산이 최솟값입니다.  \n",
    "  * 26 -> 25 -> 5 -> 1"
   ]
  },
  {
   "cell_type": "markdown",
   "id": "063bf0a7",
   "metadata": {},
   "source": [
    "### 입력 조건\n",
    "* 첫째 줄에 정수 X가 주어집니다.(1 <= X <= 30,000)\n",
    "\n",
    "### 출력 조건\n",
    "* 첫째 줄에 연산을 하는 횟수의 최솟값을 출력합니다.\n",
    "\n",
    "---\n",
    "\n",
    "### 입력 에시\n",
    "26\n",
    "\n",
    "### 출력 예시\n",
    "3"
   ]
  },
  {
   "cell_type": "code",
   "execution_count": 1,
   "id": "cb4144d3",
   "metadata": {},
   "outputs": [
    {
     "name": "stdout",
     "output_type": "stream",
     "text": [
      "26\n",
      "3\n"
     ]
    }
   ],
   "source": [
    "x = int(input())\n",
    "\n",
    "d = [0] * (x + 1)\n",
    "\n",
    "for i in range(2, x + 1):\n",
    "    # 현재 수에서 1 빼기\n",
    "    d[i] = d[i - 1] + 1\n",
    "    # 현재 수가 2로 나누어 떨어지는 경우\n",
    "    if i % 2 == 0:\n",
    "        d[i] = min(d[i], d[i // 2] + 1)\n",
    "    # 현재 수가 3으로 나누어 떨어지는 경우\n",
    "    if i % 3 == 0:\n",
    "        d[i] = min(d[i], d[i // 3] + 1)\n",
    "    # 현재 수가 5로 나누어 떨어지는 경우\n",
    "    if i % 5 == 0:\n",
    "        d[i] = min(d[i], d[i // 5] + 1)\n",
    "        \n",
    "print(d[x])"
   ]
  }
 ],
 "metadata": {
  "kernelspec": {
   "display_name": "Python 3",
   "language": "python",
   "name": "python3"
  },
  "language_info": {
   "codemirror_mode": {
    "name": "ipython",
    "version": 3
   },
   "file_extension": ".py",
   "mimetype": "text/x-python",
   "name": "python",
   "nbconvert_exporter": "python",
   "pygments_lexer": "ipython3",
   "version": "3.8.6"
  }
 },
 "nbformat": 4,
 "nbformat_minor": 5
}
