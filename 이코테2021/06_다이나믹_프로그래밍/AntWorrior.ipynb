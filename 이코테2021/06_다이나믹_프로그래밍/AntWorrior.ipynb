{
 "cells": [
  {
   "cell_type": "markdown",
   "id": "48b464ba",
   "metadata": {},
   "source": [
    "## <문제> 개미 전사\n",
    "* 개미 전사는 부족한 식량을 충당하고자 메뚜기 마을의 식량창고를 몰래 공격하려고 합니다.  \n",
    "  메뚜기 마을에는 여러 개의 식량창고가 있는데 식량창고는 일직선으로 이어져 있습니다.\n",
    "* 각 식량창고에는 정해진 수의 식량을 저장하고 있으며 개미 전사는 식량창고를 선택적으로 약탈하여 식량을 빼앗을 예정입니다.\n",
    "  이때 메뚜기 정찰병들은 일직선상에 존재하는 식량창고 중에서 서로 인접한 식량창고가 공격받으면 바로 알아챌 수 있습니다.\n",
    "* 따라서 개미 전사가 정찰병에게 들키지 않고 식량창고를 약탈하기 위해서는 **최소한 한 칸 이상 떨어진 식량창고를 약탈**해야 합니다.  \n",
    "\n",
    "---\n",
    "\n",
    "* 예를 들어 식량창고 4개가 다음과 같이 존재한다고 가정합시다.  \n",
    "  `[1, 3, 1, 5]`\n",
    "* 이때 개미 전사는 두 번째 식량창고와 네 번째 식량창고를 선택했을 때 최댓값인 총 8개의 식량을 빼앗을 수 있습니다.\n",
    "  개미 전사는 식량창고가 이렇게 일직선상일 때 최대한 많은 식량을 얻기를 원합니다.\n",
    "* 개미 전사를 위해 식량창고 N개에 대한 정보가 주어졌을 때 얻을 수 있는 식량의 최댓값을 구하는 프로그램을 작성하세요."
   ]
  },
  {
   "cell_type": "markdown",
   "id": "29373ea3",
   "metadata": {},
   "source": [
    "### 입력 조건\n",
    "* 첫째 줄에 식량창고의 개수 N이 주어집니다(3 <= N <= 100)\n",
    "* 둘째 줄에 공백을 기준으로 각 식량창고에 저장된 식량의 개수 K가 주어집니다.(0 <= K <= 1,000)\n",
    "\n",
    "### 출력 조건\n",
    "* 첫째 줄에 개미 전사가 얻을 수 있는 식량의 최댓값을 출력하세요\n",
    "\n",
    "---\n",
    "\n",
    "### 입력 에시\n",
    "4  \n",
    "1 3 1 5  \n",
    "\n",
    "### 출력 예시\n",
    "8"
   ]
  },
  {
   "cell_type": "code",
   "execution_count": 1,
   "id": "ee7a6ce0",
   "metadata": {},
   "outputs": [
    {
     "name": "stdout",
     "output_type": "stream",
     "text": [
      "4\n",
      "1 3 1 5\n",
      "8\n"
     ]
    }
   ],
   "source": [
    "n = int(input())  # 식량창고 개수\n",
    "foods = list(map(int, input().split()))\n",
    "\n",
    "d = [0] * (len(foods) + 1)\n",
    "\n",
    "# 1번 식량창고를 털었을 때 얻을 수 있는 식량 수\n",
    "d[1] = foods[0]\n",
    "# 2번 식량창고를 털었을 때 얻을 수 있는 식량 수\n",
    "d[2] = foods[1]\n",
    "\n",
    "for i in range(3, n + 1):\n",
    "    d[i] = d[i - 2] + foods[i - 1]\n",
    "    \n",
    "print(max(d))"
   ]
  }
 ],
 "metadata": {
  "kernelspec": {
   "display_name": "Python 3",
   "language": "python",
   "name": "python3"
  },
  "language_info": {
   "codemirror_mode": {
    "name": "ipython",
    "version": 3
   },
   "file_extension": ".py",
   "mimetype": "text/x-python",
   "name": "python",
   "nbconvert_exporter": "python",
   "pygments_lexer": "ipython3",
   "version": "3.8.6"
  }
 },
 "nbformat": 4,
 "nbformat_minor": 5
}
