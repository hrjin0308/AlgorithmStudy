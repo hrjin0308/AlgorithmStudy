{
 "cells": [
  {
   "cell_type": "code",
   "execution_count": 1,
   "id": "f94b00f8",
   "metadata": {},
   "outputs": [
    {
     "name": "stdout",
     "output_type": "stream",
     "text": [
      "5 3\n",
      "1 2 5 4 3\n",
      "5 5 6 6 5\n",
      "26\n"
     ]
    }
   ],
   "source": [
    "# <문제> 두 배열의 원소 교체\n",
    "# 동빈이는 두 개의 배열 A와 B를 가지고 있습니다.\n",
    "# 두 배열은 N개의 원소로 구성되어 있으며,\n",
    "# 배열의 원소는 모두 자연수입니다.\n",
    "\n",
    "# 동빈이는 최대 K번 바꿔치기 연산을 수행할 수 있는데,\n",
    "# 바꿔치기 연산이란 배열 A에 있는 원소 하나와 배열 B에 있는 원소 하나를 골라서\n",
    "# 두 원소를 서로 바꾸는 것을 말합니다.\n",
    "# 동빈이의 최종 목표는 배열 A의 모든 원소의 합이 최대가 되도록 하는 것이며,\n",
    "# 여러분은 동빈이를 도와야 합니다.\n",
    "\n",
    "# N, K, 그리고 배열 A와 B의 정보가 주어졌을 때,\n",
    "# 최대 K번 바꿔치기 연산을 수행하여 만들 수 있는 배열 A의 모든 원소의 합의\n",
    "# 최댓값을 출력하는 프로그램을 작성하세요\n",
    "\n",
    "# 입력 조건\n",
    "# - 첫 번째 줄에서 N, K가 공백을 기준으로 구분되어 입력됩니다.\n",
    "#   (1 <= N <= 100000, 0 <= K <= N)\n",
    "# - 두 번째 줄에 배열 A의 원소들이 공백을 기준으로 구분되어 입력됩니다.\n",
    "#   모든 원소는 10,000,000보다 작은 자연수입니다.\n",
    "# - 세 번째 줄에 배열 B의 원소들이 공백을 기준으로 구분되어 입력됩니다.\n",
    "#   모든 원소는 10,000,000보다 작은 자연수입니다.\n",
    "\n",
    "# 출력 조건\n",
    "# - 최대 K번의 바꿔치기 연산을 수행하여 만들 수 있는\n",
    "#   배열 A의 모든 원소의 합의 최댓값을 출력합니다.\n",
    "\n",
    "# 입력 예시\n",
    "# 5 3\n",
    "# 1 2 5 4 3\n",
    "# 5 5 6 6 5\n",
    "\n",
    "# 출력 예시\n",
    "# 26\n",
    "\n",
    "n, k = list(map(int, input().split()))\n",
    "arrayA = list(map(int, input().split()))\n",
    "arrayB = list(map(int, input().split()))\n",
    "\n",
    "# a, b sorting\n",
    "arrayA.sort()\n",
    "arrayB.sort()\n",
    "\n",
    "# k번만큼 arrayA의 제일 작은값과 arrayB의 제일 큰 값 교체\n",
    "for i in range(k):\n",
    "    if arrayA[i] < arrayB[0 - (i + 1)]:\n",
    "        arrayA[i] = arrayB[0 - (i + 1)]\n",
    "    else:\n",
    "        break\n",
    "\n",
    "print(sum(arrayA))"
   ]
  }
 ],
 "metadata": {
  "kernelspec": {
   "display_name": "Python 3",
   "language": "python",
   "name": "python3"
  },
  "language_info": {
   "codemirror_mode": {
    "name": "ipython",
    "version": 3
   },
   "file_extension": ".py",
   "mimetype": "text/x-python",
   "name": "python",
   "nbconvert_exporter": "python",
   "pygments_lexer": "ipython3",
   "version": "3.8.6"
  }
 },
 "nbformat": 4,
 "nbformat_minor": 5
}
